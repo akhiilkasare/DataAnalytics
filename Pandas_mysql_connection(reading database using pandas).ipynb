{
 "cells": [
  {
   "cell_type": "code",
   "execution_count": 12,
   "metadata": {},
   "outputs": [],
   "source": [
    "import pandas as pd\n",
    "import pymysql\n",
    "import sqlalchemy"
   ]
  },
  {
   "cell_type": "code",
   "execution_count": 22,
   "metadata": {},
   "outputs": [],
   "source": [
    "engine = sqlalchemy.create_engine('mysql+pymysql://akhil:@localhost:3306/testing')"
   ]
  },
  {
   "cell_type": "code",
   "execution_count": 23,
   "metadata": {},
   "outputs": [],
   "source": [
    "df = pd.read_sql_table(\"contacts\", engine)\n"
   ]
  },
  {
   "cell_type": "code",
   "execution_count": 24,
   "metadata": {},
   "outputs": [
    {
     "data": {
      "text/html": [
       "<div>\n",
       "<style scoped>\n",
       "    .dataframe tbody tr th:only-of-type {\n",
       "        vertical-align: middle;\n",
       "    }\n",
       "\n",
       "    .dataframe tbody tr th {\n",
       "        vertical-align: top;\n",
       "    }\n",
       "\n",
       "    .dataframe thead th {\n",
       "        text-align: right;\n",
       "    }\n",
       "</style>\n",
       "<table border=\"1\" class=\"dataframe\">\n",
       "  <thead>\n",
       "    <tr style=\"text-align: right;\">\n",
       "      <th></th>\n",
       "      <th>sno</th>\n",
       "      <th>name</th>\n",
       "      <th>phone_num</th>\n",
       "      <th>msg</th>\n",
       "      <th>date</th>\n",
       "      <th>email</th>\n",
       "    </tr>\n",
       "  </thead>\n",
       "  <tbody>\n",
       "    <tr>\n",
       "      <td>0</td>\n",
       "      <td>1</td>\n",
       "      <td>first post</td>\n",
       "      <td>123456789</td>\n",
       "      <td>first post</td>\n",
       "      <td>2018-07-29 11:36:23</td>\n",
       "      <td>firstpost@gmail.com</td>\n",
       "    </tr>\n",
       "    <tr>\n",
       "      <td>1</td>\n",
       "      <td>2</td>\n",
       "      <td>mera naam</td>\n",
       "      <td>4434343434</td>\n",
       "      <td>Bhai please send ho jaa database mei</td>\n",
       "      <td>NaT</td>\n",
       "      <td>meraemail@gmail.com</td>\n",
       "    </tr>\n",
       "    <tr>\n",
       "      <td>2</td>\n",
       "      <td>3</td>\n",
       "      <td>mera naam</td>\n",
       "      <td>4434343434</td>\n",
       "      <td>Bhai please send ho jaa database mei</td>\n",
       "      <td>2018-07-29 11:44:51</td>\n",
       "      <td>meraemail@gmail.com</td>\n",
       "    </tr>\n",
       "    <tr>\n",
       "      <td>3</td>\n",
       "      <td>4</td>\n",
       "      <td>Bithika Pal</td>\n",
       "      <td>dfdf</td>\n",
       "      <td>posting now</td>\n",
       "      <td>2018-07-29 15:46:28</td>\n",
       "      <td>bithikapddal@iitkgp.ac.in</td>\n",
       "    </tr>\n",
       "    <tr>\n",
       "      <td>4</td>\n",
       "      <td>5</td>\n",
       "      <td>dfdf</td>\n",
       "      <td>dsffdfs</td>\n",
       "      <td>sd mail send please</td>\n",
       "      <td>2018-07-29 17:19:41</td>\n",
       "      <td>dfdf@df.dfd</td>\n",
       "    </tr>\n",
       "    <tr>\n",
       "      <td>5</td>\n",
       "      <td>6</td>\n",
       "      <td>dfdf</td>\n",
       "      <td>dsffdfs</td>\n",
       "      <td>sd mail send please</td>\n",
       "      <td>2018-07-29 17:21:58</td>\n",
       "      <td>dfdf@df.dfd</td>\n",
       "    </tr>\n",
       "    <tr>\n",
       "      <td>6</td>\n",
       "      <td>7</td>\n",
       "      <td>dfdf</td>\n",
       "      <td>dsffdfs</td>\n",
       "      <td>sd mail send please</td>\n",
       "      <td>2018-07-29 17:22:33</td>\n",
       "      <td>dfdf@df.dfd</td>\n",
       "    </tr>\n",
       "  </tbody>\n",
       "</table>\n",
       "</div>"
      ],
      "text/plain": [
       "   sno         name   phone_num                                   msg  \\\n",
       "0    1   first post   123456789                            first post   \n",
       "1    2    mera naam  4434343434  Bhai please send ho jaa database mei   \n",
       "2    3    mera naam  4434343434  Bhai please send ho jaa database mei   \n",
       "3    4  Bithika Pal        dfdf                           posting now   \n",
       "4    5         dfdf     dsffdfs                   sd mail send please   \n",
       "5    6         dfdf     dsffdfs                   sd mail send please   \n",
       "6    7         dfdf     dsffdfs                   sd mail send please   \n",
       "\n",
       "                 date                      email  \n",
       "0 2018-07-29 11:36:23        firstpost@gmail.com  \n",
       "1                 NaT        meraemail@gmail.com  \n",
       "2 2018-07-29 11:44:51        meraemail@gmail.com  \n",
       "3 2018-07-29 15:46:28  bithikapddal@iitkgp.ac.in  \n",
       "4 2018-07-29 17:19:41                dfdf@df.dfd  \n",
       "5 2018-07-29 17:21:58                dfdf@df.dfd  \n",
       "6 2018-07-29 17:22:33                dfdf@df.dfd  "
      ]
     },
     "execution_count": 24,
     "metadata": {},
     "output_type": "execute_result"
    }
   ],
   "source": [
    "df"
   ]
  },
  {
   "cell_type": "code",
   "execution_count": null,
   "metadata": {},
   "outputs": [],
   "source": []
  }
 ],
 "metadata": {
  "kernelspec": {
   "display_name": "Python 3",
   "language": "python",
   "name": "python3"
  },
  "language_info": {
   "codemirror_mode": {
    "name": "ipython",
    "version": 3
   },
   "file_extension": ".py",
   "mimetype": "text/x-python",
   "name": "python",
   "nbconvert_exporter": "python",
   "pygments_lexer": "ipython3",
   "version": "3.7.4"
  }
 },
 "nbformat": 4,
 "nbformat_minor": 2
}

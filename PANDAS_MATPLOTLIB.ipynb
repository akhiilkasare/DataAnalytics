{
 "cells": [
  {
   "cell_type": "markdown",
   "metadata": {},
   "source": [
    "## Pandas"
   ]
  },
  {
   "cell_type": "code",
   "execution_count": 1,
   "metadata": {},
   "outputs": [],
   "source": [
    "import numpy as np\n",
    "import pandas as pd"
   ]
  },
  {
   "cell_type": "code",
   "execution_count": 2,
   "metadata": {},
   "outputs": [],
   "source": [
    "dict1 = {\n",
    "    \"name\":['harry', 'rohan', 'skillf', 'shubh'],\n",
    "    \"marks\":[12, 43 ,45 ,45],\n",
    "    \"city\":['mumbai', 'delhi', 'kolkata', 'banglore']\n",
    "}"
   ]
  },
  {
   "cell_type": "code",
   "execution_count": 3,
   "metadata": {},
   "outputs": [],
   "source": [
    "df = pd.DataFrame(dict1)"
   ]
  },
  {
   "cell_type": "code",
   "execution_count": 4,
   "metadata": {},
   "outputs": [
    {
     "data": {
      "text/html": [
       "<div>\n",
       "<style scoped>\n",
       "    .dataframe tbody tr th:only-of-type {\n",
       "        vertical-align: middle;\n",
       "    }\n",
       "\n",
       "    .dataframe tbody tr th {\n",
       "        vertical-align: top;\n",
       "    }\n",
       "\n",
       "    .dataframe thead th {\n",
       "        text-align: right;\n",
       "    }\n",
       "</style>\n",
       "<table border=\"1\" class=\"dataframe\">\n",
       "  <thead>\n",
       "    <tr style=\"text-align: right;\">\n",
       "      <th></th>\n",
       "      <th>name</th>\n",
       "      <th>marks</th>\n",
       "      <th>city</th>\n",
       "    </tr>\n",
       "  </thead>\n",
       "  <tbody>\n",
       "    <tr>\n",
       "      <td>0</td>\n",
       "      <td>harry</td>\n",
       "      <td>12</td>\n",
       "      <td>mumbai</td>\n",
       "    </tr>\n",
       "    <tr>\n",
       "      <td>1</td>\n",
       "      <td>rohan</td>\n",
       "      <td>43</td>\n",
       "      <td>delhi</td>\n",
       "    </tr>\n",
       "    <tr>\n",
       "      <td>2</td>\n",
       "      <td>skillf</td>\n",
       "      <td>45</td>\n",
       "      <td>kolkata</td>\n",
       "    </tr>\n",
       "    <tr>\n",
       "      <td>3</td>\n",
       "      <td>shubh</td>\n",
       "      <td>45</td>\n",
       "      <td>banglore</td>\n",
       "    </tr>\n",
       "  </tbody>\n",
       "</table>\n",
       "</div>"
      ],
      "text/plain": [
       "     name  marks      city\n",
       "0   harry     12    mumbai\n",
       "1   rohan     43     delhi\n",
       "2  skillf     45   kolkata\n",
       "3   shubh     45  banglore"
      ]
     },
     "execution_count": 4,
     "metadata": {},
     "output_type": "execute_result"
    }
   ],
   "source": [
    "df\n"
   ]
  },
  {
   "cell_type": "code",
   "execution_count": 5,
   "metadata": {},
   "outputs": [],
   "source": [
    "df.to_csv('hello.csv')"
   ]
  },
  {
   "cell_type": "code",
   "execution_count": 6,
   "metadata": {},
   "outputs": [],
   "source": [
    "df.to_csv('hello.csv', index=False)"
   ]
  },
  {
   "cell_type": "code",
   "execution_count": 7,
   "metadata": {},
   "outputs": [
    {
     "data": {
      "text/html": [
       "<div>\n",
       "<style scoped>\n",
       "    .dataframe tbody tr th:only-of-type {\n",
       "        vertical-align: middle;\n",
       "    }\n",
       "\n",
       "    .dataframe tbody tr th {\n",
       "        vertical-align: top;\n",
       "    }\n",
       "\n",
       "    .dataframe thead th {\n",
       "        text-align: right;\n",
       "    }\n",
       "</style>\n",
       "<table border=\"1\" class=\"dataframe\">\n",
       "  <thead>\n",
       "    <tr style=\"text-align: right;\">\n",
       "      <th></th>\n",
       "      <th>name</th>\n",
       "      <th>marks</th>\n",
       "      <th>city</th>\n",
       "    </tr>\n",
       "  </thead>\n",
       "  <tbody>\n",
       "    <tr>\n",
       "      <td>0</td>\n",
       "      <td>harry</td>\n",
       "      <td>12</td>\n",
       "      <td>mumbai</td>\n",
       "    </tr>\n",
       "    <tr>\n",
       "      <td>1</td>\n",
       "      <td>rohan</td>\n",
       "      <td>43</td>\n",
       "      <td>delhi</td>\n",
       "    </tr>\n",
       "  </tbody>\n",
       "</table>\n",
       "</div>"
      ],
      "text/plain": [
       "    name  marks    city\n",
       "0  harry     12  mumbai\n",
       "1  rohan     43   delhi"
      ]
     },
     "execution_count": 7,
     "metadata": {},
     "output_type": "execute_result"
    }
   ],
   "source": [
    "df.head(2)"
   ]
  },
  {
   "cell_type": "code",
   "execution_count": 8,
   "metadata": {},
   "outputs": [
    {
     "data": {
      "text/html": [
       "<div>\n",
       "<style scoped>\n",
       "    .dataframe tbody tr th:only-of-type {\n",
       "        vertical-align: middle;\n",
       "    }\n",
       "\n",
       "    .dataframe tbody tr th {\n",
       "        vertical-align: top;\n",
       "    }\n",
       "\n",
       "    .dataframe thead th {\n",
       "        text-align: right;\n",
       "    }\n",
       "</style>\n",
       "<table border=\"1\" class=\"dataframe\">\n",
       "  <thead>\n",
       "    <tr style=\"text-align: right;\">\n",
       "      <th></th>\n",
       "      <th>name</th>\n",
       "      <th>marks</th>\n",
       "      <th>city</th>\n",
       "    </tr>\n",
       "  </thead>\n",
       "  <tbody>\n",
       "    <tr>\n",
       "      <td>2</td>\n",
       "      <td>skillf</td>\n",
       "      <td>45</td>\n",
       "      <td>kolkata</td>\n",
       "    </tr>\n",
       "    <tr>\n",
       "      <td>3</td>\n",
       "      <td>shubh</td>\n",
       "      <td>45</td>\n",
       "      <td>banglore</td>\n",
       "    </tr>\n",
       "  </tbody>\n",
       "</table>\n",
       "</div>"
      ],
      "text/plain": [
       "     name  marks      city\n",
       "2  skillf     45   kolkata\n",
       "3   shubh     45  banglore"
      ]
     },
     "execution_count": 8,
     "metadata": {},
     "output_type": "execute_result"
    }
   ],
   "source": [
    "df.tail(2)"
   ]
  },
  {
   "cell_type": "code",
   "execution_count": 9,
   "metadata": {},
   "outputs": [
    {
     "data": {
      "text/html": [
       "<div>\n",
       "<style scoped>\n",
       "    .dataframe tbody tr th:only-of-type {\n",
       "        vertical-align: middle;\n",
       "    }\n",
       "\n",
       "    .dataframe tbody tr th {\n",
       "        vertical-align: top;\n",
       "    }\n",
       "\n",
       "    .dataframe thead th {\n",
       "        text-align: right;\n",
       "    }\n",
       "</style>\n",
       "<table border=\"1\" class=\"dataframe\">\n",
       "  <thead>\n",
       "    <tr style=\"text-align: right;\">\n",
       "      <th></th>\n",
       "      <th>name</th>\n",
       "      <th>marks</th>\n",
       "      <th>city</th>\n",
       "    </tr>\n",
       "  </thead>\n",
       "  <tbody>\n",
       "    <tr>\n",
       "      <td>0</td>\n",
       "      <td>harry</td>\n",
       "      <td>12</td>\n",
       "      <td>mumbai</td>\n",
       "    </tr>\n",
       "    <tr>\n",
       "      <td>1</td>\n",
       "      <td>rohan</td>\n",
       "      <td>43</td>\n",
       "      <td>delhi</td>\n",
       "    </tr>\n",
       "    <tr>\n",
       "      <td>2</td>\n",
       "      <td>skillf</td>\n",
       "      <td>45</td>\n",
       "      <td>kolkata</td>\n",
       "    </tr>\n",
       "    <tr>\n",
       "      <td>3</td>\n",
       "      <td>shubh</td>\n",
       "      <td>45</td>\n",
       "      <td>banglore</td>\n",
       "    </tr>\n",
       "  </tbody>\n",
       "</table>\n",
       "</div>"
      ],
      "text/plain": [
       "     name  marks      city\n",
       "0   harry     12    mumbai\n",
       "1   rohan     43     delhi\n",
       "2  skillf     45   kolkata\n",
       "3   shubh     45  banglore"
      ]
     },
     "execution_count": 9,
     "metadata": {},
     "output_type": "execute_result"
    }
   ],
   "source": [
    "df.head()"
   ]
  },
  {
   "cell_type": "code",
   "execution_count": 10,
   "metadata": {},
   "outputs": [
    {
     "data": {
      "text/html": [
       "<div>\n",
       "<style scoped>\n",
       "    .dataframe tbody tr th:only-of-type {\n",
       "        vertical-align: middle;\n",
       "    }\n",
       "\n",
       "    .dataframe tbody tr th {\n",
       "        vertical-align: top;\n",
       "    }\n",
       "\n",
       "    .dataframe thead th {\n",
       "        text-align: right;\n",
       "    }\n",
       "</style>\n",
       "<table border=\"1\" class=\"dataframe\">\n",
       "  <thead>\n",
       "    <tr style=\"text-align: right;\">\n",
       "      <th></th>\n",
       "      <th>marks</th>\n",
       "    </tr>\n",
       "  </thead>\n",
       "  <tbody>\n",
       "    <tr>\n",
       "      <td>count</td>\n",
       "      <td>4.000000</td>\n",
       "    </tr>\n",
       "    <tr>\n",
       "      <td>mean</td>\n",
       "      <td>36.250000</td>\n",
       "    </tr>\n",
       "    <tr>\n",
       "      <td>std</td>\n",
       "      <td>16.194135</td>\n",
       "    </tr>\n",
       "    <tr>\n",
       "      <td>min</td>\n",
       "      <td>12.000000</td>\n",
       "    </tr>\n",
       "    <tr>\n",
       "      <td>25%</td>\n",
       "      <td>35.250000</td>\n",
       "    </tr>\n",
       "    <tr>\n",
       "      <td>50%</td>\n",
       "      <td>44.000000</td>\n",
       "    </tr>\n",
       "    <tr>\n",
       "      <td>75%</td>\n",
       "      <td>45.000000</td>\n",
       "    </tr>\n",
       "    <tr>\n",
       "      <td>max</td>\n",
       "      <td>45.000000</td>\n",
       "    </tr>\n",
       "  </tbody>\n",
       "</table>\n",
       "</div>"
      ],
      "text/plain": [
       "           marks\n",
       "count   4.000000\n",
       "mean   36.250000\n",
       "std    16.194135\n",
       "min    12.000000\n",
       "25%    35.250000\n",
       "50%    44.000000\n",
       "75%    45.000000\n",
       "max    45.000000"
      ]
     },
     "execution_count": 10,
     "metadata": {},
     "output_type": "execute_result"
    }
   ],
   "source": [
    "df.describe()"
   ]
  },
  {
   "cell_type": "code",
   "execution_count": 11,
   "metadata": {},
   "outputs": [],
   "source": [
    "hello = pd.read_csv('/home/akhil/Downloads/test.csv')"
   ]
  },
  {
   "cell_type": "code",
   "execution_count": 12,
   "metadata": {},
   "outputs": [
    {
     "data": {
      "text/html": [
       "<div>\n",
       "<style scoped>\n",
       "    .dataframe tbody tr th:only-of-type {\n",
       "        vertical-align: middle;\n",
       "    }\n",
       "\n",
       "    .dataframe tbody tr th {\n",
       "        vertical-align: top;\n",
       "    }\n",
       "\n",
       "    .dataframe thead th {\n",
       "        text-align: right;\n",
       "    }\n",
       "</style>\n",
       "<table border=\"1\" class=\"dataframe\">\n",
       "  <thead>\n",
       "    <tr style=\"text-align: right;\">\n",
       "      <th></th>\n",
       "      <th>tickers</th>\n",
       "      <th>eps</th>\n",
       "      <th>revenue</th>\n",
       "      <th>price</th>\n",
       "      <th>people</th>\n",
       "    </tr>\n",
       "  </thead>\n",
       "  <tbody>\n",
       "    <tr>\n",
       "      <td>0</td>\n",
       "      <td>google</td>\n",
       "      <td>27.82</td>\n",
       "      <td>87</td>\n",
       "      <td>845</td>\n",
       "      <td>larry page</td>\n",
       "    </tr>\n",
       "    <tr>\n",
       "      <td>1</td>\n",
       "      <td>wmt</td>\n",
       "      <td>4.61</td>\n",
       "      <td>484</td>\n",
       "      <td>65</td>\n",
       "      <td>n.a.</td>\n",
       "    </tr>\n",
       "    <tr>\n",
       "      <td>2</td>\n",
       "      <td>msft</td>\n",
       "      <td>-1</td>\n",
       "      <td>85</td>\n",
       "      <td>64</td>\n",
       "      <td>bill gates</td>\n",
       "    </tr>\n",
       "    <tr>\n",
       "      <td>3</td>\n",
       "      <td>ril</td>\n",
       "      <td>not available</td>\n",
       "      <td>50</td>\n",
       "      <td>1023</td>\n",
       "      <td>mukesh ambani</td>\n",
       "    </tr>\n",
       "    <tr>\n",
       "      <td>4</td>\n",
       "      <td>tata</td>\n",
       "      <td>5.6</td>\n",
       "      <td>-1</td>\n",
       "      <td>n.a.</td>\n",
       "      <td>ratan tata</td>\n",
       "    </tr>\n",
       "  </tbody>\n",
       "</table>\n",
       "</div>"
      ],
      "text/plain": [
       "  tickers            eps  revenue price         people\n",
       "0  google          27.82       87   845     larry page\n",
       "1     wmt           4.61      484    65           n.a.\n",
       "2    msft             -1       85    64     bill gates\n",
       "3     ril  not available       50  1023  mukesh ambani\n",
       "4    tata            5.6       -1  n.a.     ratan tata"
      ]
     },
     "execution_count": 12,
     "metadata": {},
     "output_type": "execute_result"
    }
   ],
   "source": [
    "hello"
   ]
  },
  {
   "cell_type": "code",
   "execution_count": 13,
   "metadata": {},
   "outputs": [],
   "source": [
    "a = pd.read_csv('hello.csv')"
   ]
  },
  {
   "cell_type": "code",
   "execution_count": 14,
   "metadata": {},
   "outputs": [
    {
     "data": {
      "text/html": [
       "<div>\n",
       "<style scoped>\n",
       "    .dataframe tbody tr th:only-of-type {\n",
       "        vertical-align: middle;\n",
       "    }\n",
       "\n",
       "    .dataframe tbody tr th {\n",
       "        vertical-align: top;\n",
       "    }\n",
       "\n",
       "    .dataframe thead th {\n",
       "        text-align: right;\n",
       "    }\n",
       "</style>\n",
       "<table border=\"1\" class=\"dataframe\">\n",
       "  <thead>\n",
       "    <tr style=\"text-align: right;\">\n",
       "      <th></th>\n",
       "      <th>name</th>\n",
       "      <th>marks</th>\n",
       "      <th>city</th>\n",
       "    </tr>\n",
       "  </thead>\n",
       "  <tbody>\n",
       "    <tr>\n",
       "      <td>0</td>\n",
       "      <td>harry</td>\n",
       "      <td>12</td>\n",
       "      <td>mumbai</td>\n",
       "    </tr>\n",
       "    <tr>\n",
       "      <td>1</td>\n",
       "      <td>rohan</td>\n",
       "      <td>43</td>\n",
       "      <td>delhi</td>\n",
       "    </tr>\n",
       "    <tr>\n",
       "      <td>2</td>\n",
       "      <td>skillf</td>\n",
       "      <td>45</td>\n",
       "      <td>kolkata</td>\n",
       "    </tr>\n",
       "    <tr>\n",
       "      <td>3</td>\n",
       "      <td>shubh</td>\n",
       "      <td>45</td>\n",
       "      <td>banglore</td>\n",
       "    </tr>\n",
       "  </tbody>\n",
       "</table>\n",
       "</div>"
      ],
      "text/plain": [
       "     name  marks      city\n",
       "0   harry     12    mumbai\n",
       "1   rohan     43     delhi\n",
       "2  skillf     45   kolkata\n",
       "3   shubh     45  banglore"
      ]
     },
     "execution_count": 14,
     "metadata": {},
     "output_type": "execute_result"
    }
   ],
   "source": [
    "a"
   ]
  },
  {
   "cell_type": "code",
   "execution_count": 15,
   "metadata": {},
   "outputs": [],
   "source": [
    "a.index = ['first', 'second', 'third', 'fourth']"
   ]
  },
  {
   "cell_type": "code",
   "execution_count": 16,
   "metadata": {},
   "outputs": [
    {
     "data": {
      "text/html": [
       "<div>\n",
       "<style scoped>\n",
       "    .dataframe tbody tr th:only-of-type {\n",
       "        vertical-align: middle;\n",
       "    }\n",
       "\n",
       "    .dataframe tbody tr th {\n",
       "        vertical-align: top;\n",
       "    }\n",
       "\n",
       "    .dataframe thead th {\n",
       "        text-align: right;\n",
       "    }\n",
       "</style>\n",
       "<table border=\"1\" class=\"dataframe\">\n",
       "  <thead>\n",
       "    <tr style=\"text-align: right;\">\n",
       "      <th></th>\n",
       "      <th>name</th>\n",
       "      <th>marks</th>\n",
       "      <th>city</th>\n",
       "    </tr>\n",
       "  </thead>\n",
       "  <tbody>\n",
       "    <tr>\n",
       "      <td>first</td>\n",
       "      <td>harry</td>\n",
       "      <td>12</td>\n",
       "      <td>mumbai</td>\n",
       "    </tr>\n",
       "    <tr>\n",
       "      <td>second</td>\n",
       "      <td>rohan</td>\n",
       "      <td>43</td>\n",
       "      <td>delhi</td>\n",
       "    </tr>\n",
       "    <tr>\n",
       "      <td>third</td>\n",
       "      <td>skillf</td>\n",
       "      <td>45</td>\n",
       "      <td>kolkata</td>\n",
       "    </tr>\n",
       "    <tr>\n",
       "      <td>fourth</td>\n",
       "      <td>shubh</td>\n",
       "      <td>45</td>\n",
       "      <td>banglore</td>\n",
       "    </tr>\n",
       "  </tbody>\n",
       "</table>\n",
       "</div>"
      ],
      "text/plain": [
       "          name  marks      city\n",
       "first    harry     12    mumbai\n",
       "second   rohan     43     delhi\n",
       "third   skillf     45   kolkata\n",
       "fourth   shubh     45  banglore"
      ]
     },
     "execution_count": 16,
     "metadata": {},
     "output_type": "execute_result"
    }
   ],
   "source": [
    "a"
   ]
  },
  {
   "cell_type": "code",
   "execution_count": 17,
   "metadata": {},
   "outputs": [],
   "source": [
    "newdf = pd.DataFrame(np.random.rand(334,5), index = np.arange(334))"
   ]
  },
  {
   "cell_type": "code",
   "execution_count": 18,
   "metadata": {},
   "outputs": [
    {
     "data": {
      "text/html": [
       "<div>\n",
       "<style scoped>\n",
       "    .dataframe tbody tr th:only-of-type {\n",
       "        vertical-align: middle;\n",
       "    }\n",
       "\n",
       "    .dataframe tbody tr th {\n",
       "        vertical-align: top;\n",
       "    }\n",
       "\n",
       "    .dataframe thead th {\n",
       "        text-align: right;\n",
       "    }\n",
       "</style>\n",
       "<table border=\"1\" class=\"dataframe\">\n",
       "  <thead>\n",
       "    <tr style=\"text-align: right;\">\n",
       "      <th></th>\n",
       "      <th>0</th>\n",
       "      <th>1</th>\n",
       "      <th>2</th>\n",
       "      <th>3</th>\n",
       "      <th>4</th>\n",
       "    </tr>\n",
       "  </thead>\n",
       "  <tbody>\n",
       "    <tr>\n",
       "      <td>0</td>\n",
       "      <td>0.009229</td>\n",
       "      <td>0.595399</td>\n",
       "      <td>0.484736</td>\n",
       "      <td>0.432818</td>\n",
       "      <td>0.975265</td>\n",
       "    </tr>\n",
       "    <tr>\n",
       "      <td>1</td>\n",
       "      <td>0.765804</td>\n",
       "      <td>0.795241</td>\n",
       "      <td>0.422572</td>\n",
       "      <td>0.367382</td>\n",
       "      <td>0.453052</td>\n",
       "    </tr>\n",
       "    <tr>\n",
       "      <td>2</td>\n",
       "      <td>0.862316</td>\n",
       "      <td>0.670331</td>\n",
       "      <td>0.296543</td>\n",
       "      <td>0.912448</td>\n",
       "      <td>0.030133</td>\n",
       "    </tr>\n",
       "    <tr>\n",
       "      <td>3</td>\n",
       "      <td>0.429745</td>\n",
       "      <td>0.706427</td>\n",
       "      <td>0.574889</td>\n",
       "      <td>0.630357</td>\n",
       "      <td>0.113009</td>\n",
       "    </tr>\n",
       "    <tr>\n",
       "      <td>4</td>\n",
       "      <td>0.556937</td>\n",
       "      <td>0.123050</td>\n",
       "      <td>0.470312</td>\n",
       "      <td>0.305522</td>\n",
       "      <td>0.454862</td>\n",
       "    </tr>\n",
       "    <tr>\n",
       "      <td>...</td>\n",
       "      <td>...</td>\n",
       "      <td>...</td>\n",
       "      <td>...</td>\n",
       "      <td>...</td>\n",
       "      <td>...</td>\n",
       "    </tr>\n",
       "    <tr>\n",
       "      <td>329</td>\n",
       "      <td>0.017720</td>\n",
       "      <td>0.695550</td>\n",
       "      <td>0.992854</td>\n",
       "      <td>0.915689</td>\n",
       "      <td>0.762255</td>\n",
       "    </tr>\n",
       "    <tr>\n",
       "      <td>330</td>\n",
       "      <td>0.392775</td>\n",
       "      <td>0.355469</td>\n",
       "      <td>0.395592</td>\n",
       "      <td>0.549810</td>\n",
       "      <td>0.275197</td>\n",
       "    </tr>\n",
       "    <tr>\n",
       "      <td>331</td>\n",
       "      <td>0.617468</td>\n",
       "      <td>0.646687</td>\n",
       "      <td>0.125335</td>\n",
       "      <td>0.976836</td>\n",
       "      <td>0.122560</td>\n",
       "    </tr>\n",
       "    <tr>\n",
       "      <td>332</td>\n",
       "      <td>0.394344</td>\n",
       "      <td>0.928409</td>\n",
       "      <td>0.430738</td>\n",
       "      <td>0.591409</td>\n",
       "      <td>0.661340</td>\n",
       "    </tr>\n",
       "    <tr>\n",
       "      <td>333</td>\n",
       "      <td>0.520391</td>\n",
       "      <td>0.674924</td>\n",
       "      <td>0.040147</td>\n",
       "      <td>0.596971</td>\n",
       "      <td>0.278514</td>\n",
       "    </tr>\n",
       "  </tbody>\n",
       "</table>\n",
       "<p>334 rows × 5 columns</p>\n",
       "</div>"
      ],
      "text/plain": [
       "            0         1         2         3         4\n",
       "0    0.009229  0.595399  0.484736  0.432818  0.975265\n",
       "1    0.765804  0.795241  0.422572  0.367382  0.453052\n",
       "2    0.862316  0.670331  0.296543  0.912448  0.030133\n",
       "3    0.429745  0.706427  0.574889  0.630357  0.113009\n",
       "4    0.556937  0.123050  0.470312  0.305522  0.454862\n",
       "..        ...       ...       ...       ...       ...\n",
       "329  0.017720  0.695550  0.992854  0.915689  0.762255\n",
       "330  0.392775  0.355469  0.395592  0.549810  0.275197\n",
       "331  0.617468  0.646687  0.125335  0.976836  0.122560\n",
       "332  0.394344  0.928409  0.430738  0.591409  0.661340\n",
       "333  0.520391  0.674924  0.040147  0.596971  0.278514\n",
       "\n",
       "[334 rows x 5 columns]"
      ]
     },
     "execution_count": 18,
     "metadata": {},
     "output_type": "execute_result"
    }
   ],
   "source": [
    "newdf"
   ]
  },
  {
   "cell_type": "code",
   "execution_count": 19,
   "metadata": {},
   "outputs": [
    {
     "data": {
      "text/html": [
       "<div>\n",
       "<style scoped>\n",
       "    .dataframe tbody tr th:only-of-type {\n",
       "        vertical-align: middle;\n",
       "    }\n",
       "\n",
       "    .dataframe tbody tr th {\n",
       "        vertical-align: top;\n",
       "    }\n",
       "\n",
       "    .dataframe thead th {\n",
       "        text-align: right;\n",
       "    }\n",
       "</style>\n",
       "<table border=\"1\" class=\"dataframe\">\n",
       "  <thead>\n",
       "    <tr style=\"text-align: right;\">\n",
       "      <th></th>\n",
       "      <th>0</th>\n",
       "      <th>1</th>\n",
       "      <th>2</th>\n",
       "      <th>3</th>\n",
       "      <th>4</th>\n",
       "    </tr>\n",
       "  </thead>\n",
       "  <tbody>\n",
       "    <tr>\n",
       "      <td>0</td>\n",
       "      <td>0.009229</td>\n",
       "      <td>0.595399</td>\n",
       "      <td>0.484736</td>\n",
       "      <td>0.432818</td>\n",
       "      <td>0.975265</td>\n",
       "    </tr>\n",
       "    <tr>\n",
       "      <td>1</td>\n",
       "      <td>0.765804</td>\n",
       "      <td>0.795241</td>\n",
       "      <td>0.422572</td>\n",
       "      <td>0.367382</td>\n",
       "      <td>0.453052</td>\n",
       "    </tr>\n",
       "    <tr>\n",
       "      <td>2</td>\n",
       "      <td>0.862316</td>\n",
       "      <td>0.670331</td>\n",
       "      <td>0.296543</td>\n",
       "      <td>0.912448</td>\n",
       "      <td>0.030133</td>\n",
       "    </tr>\n",
       "    <tr>\n",
       "      <td>3</td>\n",
       "      <td>0.429745</td>\n",
       "      <td>0.706427</td>\n",
       "      <td>0.574889</td>\n",
       "      <td>0.630357</td>\n",
       "      <td>0.113009</td>\n",
       "    </tr>\n",
       "    <tr>\n",
       "      <td>4</td>\n",
       "      <td>0.556937</td>\n",
       "      <td>0.123050</td>\n",
       "      <td>0.470312</td>\n",
       "      <td>0.305522</td>\n",
       "      <td>0.454862</td>\n",
       "    </tr>\n",
       "  </tbody>\n",
       "</table>\n",
       "</div>"
      ],
      "text/plain": [
       "          0         1         2         3         4\n",
       "0  0.009229  0.595399  0.484736  0.432818  0.975265\n",
       "1  0.765804  0.795241  0.422572  0.367382  0.453052\n",
       "2  0.862316  0.670331  0.296543  0.912448  0.030133\n",
       "3  0.429745  0.706427  0.574889  0.630357  0.113009\n",
       "4  0.556937  0.123050  0.470312  0.305522  0.454862"
      ]
     },
     "execution_count": 19,
     "metadata": {},
     "output_type": "execute_result"
    }
   ],
   "source": [
    "newdf.head(5)"
   ]
  },
  {
   "cell_type": "code",
   "execution_count": 20,
   "metadata": {},
   "outputs": [
    {
     "data": {
      "text/html": [
       "<div>\n",
       "<style scoped>\n",
       "    .dataframe tbody tr th:only-of-type {\n",
       "        vertical-align: middle;\n",
       "    }\n",
       "\n",
       "    .dataframe tbody tr th {\n",
       "        vertical-align: top;\n",
       "    }\n",
       "\n",
       "    .dataframe thead th {\n",
       "        text-align: right;\n",
       "    }\n",
       "</style>\n",
       "<table border=\"1\" class=\"dataframe\">\n",
       "  <thead>\n",
       "    <tr style=\"text-align: right;\">\n",
       "      <th></th>\n",
       "      <th>0</th>\n",
       "      <th>1</th>\n",
       "      <th>2</th>\n",
       "      <th>3</th>\n",
       "      <th>4</th>\n",
       "    </tr>\n",
       "  </thead>\n",
       "  <tbody>\n",
       "    <tr>\n",
       "      <td>count</td>\n",
       "      <td>334.000000</td>\n",
       "      <td>334.000000</td>\n",
       "      <td>334.000000</td>\n",
       "      <td>334.000000</td>\n",
       "      <td>334.000000</td>\n",
       "    </tr>\n",
       "    <tr>\n",
       "      <td>mean</td>\n",
       "      <td>0.504561</td>\n",
       "      <td>0.517799</td>\n",
       "      <td>0.485146</td>\n",
       "      <td>0.523368</td>\n",
       "      <td>0.530940</td>\n",
       "    </tr>\n",
       "    <tr>\n",
       "      <td>std</td>\n",
       "      <td>0.291794</td>\n",
       "      <td>0.279187</td>\n",
       "      <td>0.294263</td>\n",
       "      <td>0.287261</td>\n",
       "      <td>0.294524</td>\n",
       "    </tr>\n",
       "    <tr>\n",
       "      <td>min</td>\n",
       "      <td>0.000380</td>\n",
       "      <td>0.019117</td>\n",
       "      <td>0.003217</td>\n",
       "      <td>0.002564</td>\n",
       "      <td>0.003390</td>\n",
       "    </tr>\n",
       "    <tr>\n",
       "      <td>25%</td>\n",
       "      <td>0.254349</td>\n",
       "      <td>0.296016</td>\n",
       "      <td>0.228254</td>\n",
       "      <td>0.293677</td>\n",
       "      <td>0.282229</td>\n",
       "    </tr>\n",
       "    <tr>\n",
       "      <td>50%</td>\n",
       "      <td>0.501468</td>\n",
       "      <td>0.521664</td>\n",
       "      <td>0.468118</td>\n",
       "      <td>0.549395</td>\n",
       "      <td>0.533704</td>\n",
       "    </tr>\n",
       "    <tr>\n",
       "      <td>75%</td>\n",
       "      <td>0.737880</td>\n",
       "      <td>0.736018</td>\n",
       "      <td>0.738773</td>\n",
       "      <td>0.774621</td>\n",
       "      <td>0.801504</td>\n",
       "    </tr>\n",
       "    <tr>\n",
       "      <td>max</td>\n",
       "      <td>0.997894</td>\n",
       "      <td>0.999010</td>\n",
       "      <td>0.997979</td>\n",
       "      <td>0.995990</td>\n",
       "      <td>0.995383</td>\n",
       "    </tr>\n",
       "  </tbody>\n",
       "</table>\n",
       "</div>"
      ],
      "text/plain": [
       "                0           1           2           3           4\n",
       "count  334.000000  334.000000  334.000000  334.000000  334.000000\n",
       "mean     0.504561    0.517799    0.485146    0.523368    0.530940\n",
       "std      0.291794    0.279187    0.294263    0.287261    0.294524\n",
       "min      0.000380    0.019117    0.003217    0.002564    0.003390\n",
       "25%      0.254349    0.296016    0.228254    0.293677    0.282229\n",
       "50%      0.501468    0.521664    0.468118    0.549395    0.533704\n",
       "75%      0.737880    0.736018    0.738773    0.774621    0.801504\n",
       "max      0.997894    0.999010    0.997979    0.995990    0.995383"
      ]
     },
     "execution_count": 20,
     "metadata": {},
     "output_type": "execute_result"
    }
   ],
   "source": [
    "newdf.describe()"
   ]
  },
  {
   "cell_type": "code",
   "execution_count": 21,
   "metadata": {},
   "outputs": [],
   "source": [
    "newdf[0][0] = 'harry'"
   ]
  },
  {
   "cell_type": "code",
   "execution_count": 22,
   "metadata": {},
   "outputs": [
    {
     "data": {
      "text/html": [
       "<div>\n",
       "<style scoped>\n",
       "    .dataframe tbody tr th:only-of-type {\n",
       "        vertical-align: middle;\n",
       "    }\n",
       "\n",
       "    .dataframe tbody tr th {\n",
       "        vertical-align: top;\n",
       "    }\n",
       "\n",
       "    .dataframe thead th {\n",
       "        text-align: right;\n",
       "    }\n",
       "</style>\n",
       "<table border=\"1\" class=\"dataframe\">\n",
       "  <thead>\n",
       "    <tr style=\"text-align: right;\">\n",
       "      <th></th>\n",
       "      <th>0</th>\n",
       "      <th>1</th>\n",
       "      <th>2</th>\n",
       "      <th>3</th>\n",
       "      <th>4</th>\n",
       "    </tr>\n",
       "  </thead>\n",
       "  <tbody>\n",
       "    <tr>\n",
       "      <td>0</td>\n",
       "      <td>harry</td>\n",
       "      <td>0.595399</td>\n",
       "      <td>0.484736</td>\n",
       "      <td>0.432818</td>\n",
       "      <td>0.975265</td>\n",
       "    </tr>\n",
       "    <tr>\n",
       "      <td>1</td>\n",
       "      <td>0.765804</td>\n",
       "      <td>0.795241</td>\n",
       "      <td>0.422572</td>\n",
       "      <td>0.367382</td>\n",
       "      <td>0.453052</td>\n",
       "    </tr>\n",
       "    <tr>\n",
       "      <td>2</td>\n",
       "      <td>0.862316</td>\n",
       "      <td>0.670331</td>\n",
       "      <td>0.296543</td>\n",
       "      <td>0.912448</td>\n",
       "      <td>0.030133</td>\n",
       "    </tr>\n",
       "    <tr>\n",
       "      <td>3</td>\n",
       "      <td>0.429745</td>\n",
       "      <td>0.706427</td>\n",
       "      <td>0.574889</td>\n",
       "      <td>0.630357</td>\n",
       "      <td>0.113009</td>\n",
       "    </tr>\n",
       "    <tr>\n",
       "      <td>4</td>\n",
       "      <td>0.556937</td>\n",
       "      <td>0.123050</td>\n",
       "      <td>0.470312</td>\n",
       "      <td>0.305522</td>\n",
       "      <td>0.454862</td>\n",
       "    </tr>\n",
       "  </tbody>\n",
       "</table>\n",
       "</div>"
      ],
      "text/plain": [
       "          0         1         2         3         4\n",
       "0     harry  0.595399  0.484736  0.432818  0.975265\n",
       "1  0.765804  0.795241  0.422572  0.367382  0.453052\n",
       "2  0.862316  0.670331  0.296543  0.912448  0.030133\n",
       "3  0.429745  0.706427  0.574889  0.630357  0.113009\n",
       "4  0.556937  0.123050  0.470312  0.305522  0.454862"
      ]
     },
     "execution_count": 22,
     "metadata": {},
     "output_type": "execute_result"
    }
   ],
   "source": [
    "newdf.head()"
   ]
  },
  {
   "cell_type": "code",
   "execution_count": 23,
   "metadata": {},
   "outputs": [
    {
     "data": {
      "text/plain": [
       "array([['harry', 0.595399442811412, 0.484736265708712,\n",
       "        0.4328176067628702, 0.975264687105903],\n",
       "       [0.7658040916817082, 0.7952411034212756, 0.422571620074752,\n",
       "        0.36738242062103976, 0.453052457691717],\n",
       "       [0.862315867407379, 0.6703312989910795, 0.2965425932635726,\n",
       "        0.912447734797653, 0.03013297979775309],\n",
       "       ...,\n",
       "       [0.6174681416114935, 0.6466874678359982, 0.12533480839773137,\n",
       "        0.976835790311897, 0.1225601682321561],\n",
       "       [0.39434352954009333, 0.9284090964886237, 0.4307379813757841,\n",
       "        0.5914094910101537, 0.661340027895111],\n",
       "       [0.5203908023901708, 0.6749244702903824, 0.04014727894742298,\n",
       "        0.5969707229689315, 0.2785144472803083]], dtype=object)"
      ]
     },
     "execution_count": 23,
     "metadata": {},
     "output_type": "execute_result"
    }
   ],
   "source": [
    "newdf.to_numpy()"
   ]
  },
  {
   "cell_type": "code",
   "execution_count": 24,
   "metadata": {},
   "outputs": [
    {
     "name": "stderr",
     "output_type": "stream",
     "text": [
      "/home/akhil/anaconda3/lib/python3.7/site-packages/ipykernel_launcher.py:1: SettingWithCopyWarning: \n",
      "A value is trying to be set on a copy of a slice from a DataFrame\n",
      "\n",
      "See the caveats in the documentation: http://pandas.pydata.org/pandas-docs/stable/user_guide/indexing.html#returning-a-view-versus-a-copy\n",
      "  \"\"\"Entry point for launching an IPython kernel.\n"
     ]
    }
   ],
   "source": [
    "newdf[0][0] = 0.234234"
   ]
  },
  {
   "cell_type": "code",
   "execution_count": 25,
   "metadata": {},
   "outputs": [
    {
     "data": {
      "text/html": [
       "<div>\n",
       "<style scoped>\n",
       "    .dataframe tbody tr th:only-of-type {\n",
       "        vertical-align: middle;\n",
       "    }\n",
       "\n",
       "    .dataframe tbody tr th {\n",
       "        vertical-align: top;\n",
       "    }\n",
       "\n",
       "    .dataframe thead th {\n",
       "        text-align: right;\n",
       "    }\n",
       "</style>\n",
       "<table border=\"1\" class=\"dataframe\">\n",
       "  <thead>\n",
       "    <tr style=\"text-align: right;\">\n",
       "      <th></th>\n",
       "      <th>0</th>\n",
       "      <th>1</th>\n",
       "      <th>2</th>\n",
       "      <th>3</th>\n",
       "      <th>4</th>\n",
       "    </tr>\n",
       "  </thead>\n",
       "  <tbody>\n",
       "    <tr>\n",
       "      <td>0</td>\n",
       "      <td>0.234234</td>\n",
       "      <td>0.595399</td>\n",
       "      <td>0.484736</td>\n",
       "      <td>0.432818</td>\n",
       "      <td>0.975265</td>\n",
       "    </tr>\n",
       "    <tr>\n",
       "      <td>1</td>\n",
       "      <td>0.765804</td>\n",
       "      <td>0.795241</td>\n",
       "      <td>0.422572</td>\n",
       "      <td>0.367382</td>\n",
       "      <td>0.453052</td>\n",
       "    </tr>\n",
       "    <tr>\n",
       "      <td>2</td>\n",
       "      <td>0.862316</td>\n",
       "      <td>0.670331</td>\n",
       "      <td>0.296543</td>\n",
       "      <td>0.912448</td>\n",
       "      <td>0.030133</td>\n",
       "    </tr>\n",
       "    <tr>\n",
       "      <td>3</td>\n",
       "      <td>0.429745</td>\n",
       "      <td>0.706427</td>\n",
       "      <td>0.574889</td>\n",
       "      <td>0.630357</td>\n",
       "      <td>0.113009</td>\n",
       "    </tr>\n",
       "    <tr>\n",
       "      <td>4</td>\n",
       "      <td>0.556937</td>\n",
       "      <td>0.123050</td>\n",
       "      <td>0.470312</td>\n",
       "      <td>0.305522</td>\n",
       "      <td>0.454862</td>\n",
       "    </tr>\n",
       "    <tr>\n",
       "      <td>...</td>\n",
       "      <td>...</td>\n",
       "      <td>...</td>\n",
       "      <td>...</td>\n",
       "      <td>...</td>\n",
       "      <td>...</td>\n",
       "    </tr>\n",
       "    <tr>\n",
       "      <td>329</td>\n",
       "      <td>0.0177201</td>\n",
       "      <td>0.695550</td>\n",
       "      <td>0.992854</td>\n",
       "      <td>0.915689</td>\n",
       "      <td>0.762255</td>\n",
       "    </tr>\n",
       "    <tr>\n",
       "      <td>330</td>\n",
       "      <td>0.392775</td>\n",
       "      <td>0.355469</td>\n",
       "      <td>0.395592</td>\n",
       "      <td>0.549810</td>\n",
       "      <td>0.275197</td>\n",
       "    </tr>\n",
       "    <tr>\n",
       "      <td>331</td>\n",
       "      <td>0.617468</td>\n",
       "      <td>0.646687</td>\n",
       "      <td>0.125335</td>\n",
       "      <td>0.976836</td>\n",
       "      <td>0.122560</td>\n",
       "    </tr>\n",
       "    <tr>\n",
       "      <td>332</td>\n",
       "      <td>0.394344</td>\n",
       "      <td>0.928409</td>\n",
       "      <td>0.430738</td>\n",
       "      <td>0.591409</td>\n",
       "      <td>0.661340</td>\n",
       "    </tr>\n",
       "    <tr>\n",
       "      <td>333</td>\n",
       "      <td>0.520391</td>\n",
       "      <td>0.674924</td>\n",
       "      <td>0.040147</td>\n",
       "      <td>0.596971</td>\n",
       "      <td>0.278514</td>\n",
       "    </tr>\n",
       "  </tbody>\n",
       "</table>\n",
       "<p>334 rows × 5 columns</p>\n",
       "</div>"
      ],
      "text/plain": [
       "             0         1         2         3         4\n",
       "0     0.234234  0.595399  0.484736  0.432818  0.975265\n",
       "1     0.765804  0.795241  0.422572  0.367382  0.453052\n",
       "2     0.862316  0.670331  0.296543  0.912448  0.030133\n",
       "3     0.429745  0.706427  0.574889  0.630357  0.113009\n",
       "4     0.556937  0.123050  0.470312  0.305522  0.454862\n",
       "..         ...       ...       ...       ...       ...\n",
       "329  0.0177201  0.695550  0.992854  0.915689  0.762255\n",
       "330   0.392775  0.355469  0.395592  0.549810  0.275197\n",
       "331   0.617468  0.646687  0.125335  0.976836  0.122560\n",
       "332   0.394344  0.928409  0.430738  0.591409  0.661340\n",
       "333   0.520391  0.674924  0.040147  0.596971  0.278514\n",
       "\n",
       "[334 rows x 5 columns]"
      ]
     },
     "execution_count": 25,
     "metadata": {},
     "output_type": "execute_result"
    }
   ],
   "source": [
    "newdf\n"
   ]
  },
  {
   "cell_type": "code",
   "execution_count": 26,
   "metadata": {},
   "outputs": [
    {
     "data": {
      "text/plain": [
       "array([[0.234234, 0.595399442811412, 0.484736265708712,\n",
       "        0.4328176067628702, 0.975264687105903],\n",
       "       [0.7658040916817082, 0.7952411034212756, 0.422571620074752,\n",
       "        0.36738242062103976, 0.453052457691717],\n",
       "       [0.862315867407379, 0.6703312989910795, 0.2965425932635726,\n",
       "        0.912447734797653, 0.03013297979775309],\n",
       "       ...,\n",
       "       [0.6174681416114935, 0.6466874678359982, 0.12533480839773137,\n",
       "        0.976835790311897, 0.1225601682321561],\n",
       "       [0.39434352954009333, 0.9284090964886237, 0.4307379813757841,\n",
       "        0.5914094910101537, 0.661340027895111],\n",
       "       [0.5203908023901708, 0.6749244702903824, 0.04014727894742298,\n",
       "        0.5969707229689315, 0.2785144472803083]], dtype=object)"
      ]
     },
     "execution_count": 26,
     "metadata": {},
     "output_type": "execute_result"
    }
   ],
   "source": [
    "newdf.to_numpy()"
   ]
  },
  {
   "cell_type": "code",
   "execution_count": 27,
   "metadata": {},
   "outputs": [
    {
     "data": {
      "text/html": [
       "<div>\n",
       "<style scoped>\n",
       "    .dataframe tbody tr th:only-of-type {\n",
       "        vertical-align: middle;\n",
       "    }\n",
       "\n",
       "    .dataframe tbody tr th {\n",
       "        vertical-align: top;\n",
       "    }\n",
       "\n",
       "    .dataframe thead th {\n",
       "        text-align: right;\n",
       "    }\n",
       "</style>\n",
       "<table border=\"1\" class=\"dataframe\">\n",
       "  <thead>\n",
       "    <tr style=\"text-align: right;\">\n",
       "      <th></th>\n",
       "      <th>0</th>\n",
       "      <th>1</th>\n",
       "      <th>2</th>\n",
       "      <th>3</th>\n",
       "      <th>4</th>\n",
       "    </tr>\n",
       "  </thead>\n",
       "  <tbody>\n",
       "    <tr>\n",
       "      <td>0</td>\n",
       "      <td>0.234234</td>\n",
       "      <td>0.595399</td>\n",
       "      <td>0.484736</td>\n",
       "      <td>0.432818</td>\n",
       "      <td>0.975265</td>\n",
       "    </tr>\n",
       "    <tr>\n",
       "      <td>1</td>\n",
       "      <td>0.765804</td>\n",
       "      <td>0.795241</td>\n",
       "      <td>0.422572</td>\n",
       "      <td>0.367382</td>\n",
       "      <td>0.453052</td>\n",
       "    </tr>\n",
       "    <tr>\n",
       "      <td>2</td>\n",
       "      <td>0.862316</td>\n",
       "      <td>0.670331</td>\n",
       "      <td>0.296543</td>\n",
       "      <td>0.912448</td>\n",
       "      <td>0.030133</td>\n",
       "    </tr>\n",
       "    <tr>\n",
       "      <td>3</td>\n",
       "      <td>0.429745</td>\n",
       "      <td>0.706427</td>\n",
       "      <td>0.574889</td>\n",
       "      <td>0.630357</td>\n",
       "      <td>0.113009</td>\n",
       "    </tr>\n",
       "    <tr>\n",
       "      <td>4</td>\n",
       "      <td>0.556937</td>\n",
       "      <td>0.123050</td>\n",
       "      <td>0.470312</td>\n",
       "      <td>0.305522</td>\n",
       "      <td>0.454862</td>\n",
       "    </tr>\n",
       "    <tr>\n",
       "      <td>...</td>\n",
       "      <td>...</td>\n",
       "      <td>...</td>\n",
       "      <td>...</td>\n",
       "      <td>...</td>\n",
       "      <td>...</td>\n",
       "    </tr>\n",
       "    <tr>\n",
       "      <td>329</td>\n",
       "      <td>0.0177201</td>\n",
       "      <td>0.695550</td>\n",
       "      <td>0.992854</td>\n",
       "      <td>0.915689</td>\n",
       "      <td>0.762255</td>\n",
       "    </tr>\n",
       "    <tr>\n",
       "      <td>330</td>\n",
       "      <td>0.392775</td>\n",
       "      <td>0.355469</td>\n",
       "      <td>0.395592</td>\n",
       "      <td>0.549810</td>\n",
       "      <td>0.275197</td>\n",
       "    </tr>\n",
       "    <tr>\n",
       "      <td>331</td>\n",
       "      <td>0.617468</td>\n",
       "      <td>0.646687</td>\n",
       "      <td>0.125335</td>\n",
       "      <td>0.976836</td>\n",
       "      <td>0.122560</td>\n",
       "    </tr>\n",
       "    <tr>\n",
       "      <td>332</td>\n",
       "      <td>0.394344</td>\n",
       "      <td>0.928409</td>\n",
       "      <td>0.430738</td>\n",
       "      <td>0.591409</td>\n",
       "      <td>0.661340</td>\n",
       "    </tr>\n",
       "    <tr>\n",
       "      <td>333</td>\n",
       "      <td>0.520391</td>\n",
       "      <td>0.674924</td>\n",
       "      <td>0.040147</td>\n",
       "      <td>0.596971</td>\n",
       "      <td>0.278514</td>\n",
       "    </tr>\n",
       "  </tbody>\n",
       "</table>\n",
       "<p>334 rows × 5 columns</p>\n",
       "</div>"
      ],
      "text/plain": [
       "             0         1         2         3         4\n",
       "0     0.234234  0.595399  0.484736  0.432818  0.975265\n",
       "1     0.765804  0.795241  0.422572  0.367382  0.453052\n",
       "2     0.862316  0.670331  0.296543  0.912448  0.030133\n",
       "3     0.429745  0.706427  0.574889  0.630357  0.113009\n",
       "4     0.556937  0.123050  0.470312  0.305522  0.454862\n",
       "..         ...       ...       ...       ...       ...\n",
       "329  0.0177201  0.695550  0.992854  0.915689  0.762255\n",
       "330   0.392775  0.355469  0.395592  0.549810  0.275197\n",
       "331   0.617468  0.646687  0.125335  0.976836  0.122560\n",
       "332   0.394344  0.928409  0.430738  0.591409  0.661340\n",
       "333   0.520391  0.674924  0.040147  0.596971  0.278514\n",
       "\n",
       "[334 rows x 5 columns]"
      ]
     },
     "execution_count": 27,
     "metadata": {},
     "output_type": "execute_result"
    }
   ],
   "source": [
    "newdf"
   ]
  },
  {
   "cell_type": "code",
   "execution_count": 28,
   "metadata": {},
   "outputs": [],
   "source": [
    "newdf2 = newdf.copy()"
   ]
  },
  {
   "cell_type": "code",
   "execution_count": 29,
   "metadata": {},
   "outputs": [
    {
     "name": "stderr",
     "output_type": "stream",
     "text": [
      "/home/akhil/anaconda3/lib/python3.7/site-packages/ipykernel_launcher.py:1: SettingWithCopyWarning: \n",
      "A value is trying to be set on a copy of a slice from a DataFrame\n",
      "\n",
      "See the caveats in the documentation: http://pandas.pydata.org/pandas-docs/stable/user_guide/indexing.html#returning-a-view-versus-a-copy\n",
      "  \"\"\"Entry point for launching an IPython kernel.\n"
     ]
    }
   ],
   "source": [
    "newdf2[0][0] = 2342343234"
   ]
  },
  {
   "cell_type": "code",
   "execution_count": 30,
   "metadata": {},
   "outputs": [
    {
     "data": {
      "text/html": [
       "<div>\n",
       "<style scoped>\n",
       "    .dataframe tbody tr th:only-of-type {\n",
       "        vertical-align: middle;\n",
       "    }\n",
       "\n",
       "    .dataframe tbody tr th {\n",
       "        vertical-align: top;\n",
       "    }\n",
       "\n",
       "    .dataframe thead th {\n",
       "        text-align: right;\n",
       "    }\n",
       "</style>\n",
       "<table border=\"1\" class=\"dataframe\">\n",
       "  <thead>\n",
       "    <tr style=\"text-align: right;\">\n",
       "      <th></th>\n",
       "      <th>0</th>\n",
       "      <th>1</th>\n",
       "      <th>2</th>\n",
       "      <th>3</th>\n",
       "      <th>4</th>\n",
       "    </tr>\n",
       "  </thead>\n",
       "  <tbody>\n",
       "    <tr>\n",
       "      <td>0</td>\n",
       "      <td>2342343234</td>\n",
       "      <td>0.595399</td>\n",
       "      <td>0.484736</td>\n",
       "      <td>0.432818</td>\n",
       "      <td>0.975265</td>\n",
       "    </tr>\n",
       "    <tr>\n",
       "      <td>1</td>\n",
       "      <td>0.765804</td>\n",
       "      <td>0.795241</td>\n",
       "      <td>0.422572</td>\n",
       "      <td>0.367382</td>\n",
       "      <td>0.453052</td>\n",
       "    </tr>\n",
       "    <tr>\n",
       "      <td>2</td>\n",
       "      <td>0.862316</td>\n",
       "      <td>0.670331</td>\n",
       "      <td>0.296543</td>\n",
       "      <td>0.912448</td>\n",
       "      <td>0.030133</td>\n",
       "    </tr>\n",
       "    <tr>\n",
       "      <td>3</td>\n",
       "      <td>0.429745</td>\n",
       "      <td>0.706427</td>\n",
       "      <td>0.574889</td>\n",
       "      <td>0.630357</td>\n",
       "      <td>0.113009</td>\n",
       "    </tr>\n",
       "    <tr>\n",
       "      <td>4</td>\n",
       "      <td>0.556937</td>\n",
       "      <td>0.123050</td>\n",
       "      <td>0.470312</td>\n",
       "      <td>0.305522</td>\n",
       "      <td>0.454862</td>\n",
       "    </tr>\n",
       "    <tr>\n",
       "      <td>...</td>\n",
       "      <td>...</td>\n",
       "      <td>...</td>\n",
       "      <td>...</td>\n",
       "      <td>...</td>\n",
       "      <td>...</td>\n",
       "    </tr>\n",
       "    <tr>\n",
       "      <td>329</td>\n",
       "      <td>0.0177201</td>\n",
       "      <td>0.695550</td>\n",
       "      <td>0.992854</td>\n",
       "      <td>0.915689</td>\n",
       "      <td>0.762255</td>\n",
       "    </tr>\n",
       "    <tr>\n",
       "      <td>330</td>\n",
       "      <td>0.392775</td>\n",
       "      <td>0.355469</td>\n",
       "      <td>0.395592</td>\n",
       "      <td>0.549810</td>\n",
       "      <td>0.275197</td>\n",
       "    </tr>\n",
       "    <tr>\n",
       "      <td>331</td>\n",
       "      <td>0.617468</td>\n",
       "      <td>0.646687</td>\n",
       "      <td>0.125335</td>\n",
       "      <td>0.976836</td>\n",
       "      <td>0.122560</td>\n",
       "    </tr>\n",
       "    <tr>\n",
       "      <td>332</td>\n",
       "      <td>0.394344</td>\n",
       "      <td>0.928409</td>\n",
       "      <td>0.430738</td>\n",
       "      <td>0.591409</td>\n",
       "      <td>0.661340</td>\n",
       "    </tr>\n",
       "    <tr>\n",
       "      <td>333</td>\n",
       "      <td>0.520391</td>\n",
       "      <td>0.674924</td>\n",
       "      <td>0.040147</td>\n",
       "      <td>0.596971</td>\n",
       "      <td>0.278514</td>\n",
       "    </tr>\n",
       "  </tbody>\n",
       "</table>\n",
       "<p>334 rows × 5 columns</p>\n",
       "</div>"
      ],
      "text/plain": [
       "              0         1         2         3         4\n",
       "0    2342343234  0.595399  0.484736  0.432818  0.975265\n",
       "1      0.765804  0.795241  0.422572  0.367382  0.453052\n",
       "2      0.862316  0.670331  0.296543  0.912448  0.030133\n",
       "3      0.429745  0.706427  0.574889  0.630357  0.113009\n",
       "4      0.556937  0.123050  0.470312  0.305522  0.454862\n",
       "..          ...       ...       ...       ...       ...\n",
       "329   0.0177201  0.695550  0.992854  0.915689  0.762255\n",
       "330    0.392775  0.355469  0.395592  0.549810  0.275197\n",
       "331    0.617468  0.646687  0.125335  0.976836  0.122560\n",
       "332    0.394344  0.928409  0.430738  0.591409  0.661340\n",
       "333    0.520391  0.674924  0.040147  0.596971  0.278514\n",
       "\n",
       "[334 rows x 5 columns]"
      ]
     },
     "execution_count": 30,
     "metadata": {},
     "output_type": "execute_result"
    }
   ],
   "source": [
    "newdf2\n"
   ]
  },
  {
   "cell_type": "code",
   "execution_count": 31,
   "metadata": {},
   "outputs": [
    {
     "data": {
      "text/html": [
       "<div>\n",
       "<style scoped>\n",
       "    .dataframe tbody tr th:only-of-type {\n",
       "        vertical-align: middle;\n",
       "    }\n",
       "\n",
       "    .dataframe tbody tr th {\n",
       "        vertical-align: top;\n",
       "    }\n",
       "\n",
       "    .dataframe thead th {\n",
       "        text-align: right;\n",
       "    }\n",
       "</style>\n",
       "<table border=\"1\" class=\"dataframe\">\n",
       "  <thead>\n",
       "    <tr style=\"text-align: right;\">\n",
       "      <th></th>\n",
       "      <th>0</th>\n",
       "      <th>1</th>\n",
       "      <th>2</th>\n",
       "      <th>3</th>\n",
       "      <th>4</th>\n",
       "    </tr>\n",
       "  </thead>\n",
       "  <tbody>\n",
       "    <tr>\n",
       "      <td>0</td>\n",
       "      <td>0.234234</td>\n",
       "      <td>0.595399</td>\n",
       "      <td>0.484736</td>\n",
       "      <td>0.432818</td>\n",
       "      <td>0.975265</td>\n",
       "    </tr>\n",
       "    <tr>\n",
       "      <td>1</td>\n",
       "      <td>0.765804</td>\n",
       "      <td>0.795241</td>\n",
       "      <td>0.422572</td>\n",
       "      <td>0.367382</td>\n",
       "      <td>0.453052</td>\n",
       "    </tr>\n",
       "    <tr>\n",
       "      <td>2</td>\n",
       "      <td>0.862316</td>\n",
       "      <td>0.670331</td>\n",
       "      <td>0.296543</td>\n",
       "      <td>0.912448</td>\n",
       "      <td>0.030133</td>\n",
       "    </tr>\n",
       "    <tr>\n",
       "      <td>3</td>\n",
       "      <td>0.429745</td>\n",
       "      <td>0.706427</td>\n",
       "      <td>0.574889</td>\n",
       "      <td>0.630357</td>\n",
       "      <td>0.113009</td>\n",
       "    </tr>\n",
       "    <tr>\n",
       "      <td>4</td>\n",
       "      <td>0.556937</td>\n",
       "      <td>0.123050</td>\n",
       "      <td>0.470312</td>\n",
       "      <td>0.305522</td>\n",
       "      <td>0.454862</td>\n",
       "    </tr>\n",
       "    <tr>\n",
       "      <td>...</td>\n",
       "      <td>...</td>\n",
       "      <td>...</td>\n",
       "      <td>...</td>\n",
       "      <td>...</td>\n",
       "      <td>...</td>\n",
       "    </tr>\n",
       "    <tr>\n",
       "      <td>329</td>\n",
       "      <td>0.0177201</td>\n",
       "      <td>0.695550</td>\n",
       "      <td>0.992854</td>\n",
       "      <td>0.915689</td>\n",
       "      <td>0.762255</td>\n",
       "    </tr>\n",
       "    <tr>\n",
       "      <td>330</td>\n",
       "      <td>0.392775</td>\n",
       "      <td>0.355469</td>\n",
       "      <td>0.395592</td>\n",
       "      <td>0.549810</td>\n",
       "      <td>0.275197</td>\n",
       "    </tr>\n",
       "    <tr>\n",
       "      <td>331</td>\n",
       "      <td>0.617468</td>\n",
       "      <td>0.646687</td>\n",
       "      <td>0.125335</td>\n",
       "      <td>0.976836</td>\n",
       "      <td>0.122560</td>\n",
       "    </tr>\n",
       "    <tr>\n",
       "      <td>332</td>\n",
       "      <td>0.394344</td>\n",
       "      <td>0.928409</td>\n",
       "      <td>0.430738</td>\n",
       "      <td>0.591409</td>\n",
       "      <td>0.661340</td>\n",
       "    </tr>\n",
       "    <tr>\n",
       "      <td>333</td>\n",
       "      <td>0.520391</td>\n",
       "      <td>0.674924</td>\n",
       "      <td>0.040147</td>\n",
       "      <td>0.596971</td>\n",
       "      <td>0.278514</td>\n",
       "    </tr>\n",
       "  </tbody>\n",
       "</table>\n",
       "<p>334 rows × 5 columns</p>\n",
       "</div>"
      ],
      "text/plain": [
       "             0         1         2         3         4\n",
       "0     0.234234  0.595399  0.484736  0.432818  0.975265\n",
       "1     0.765804  0.795241  0.422572  0.367382  0.453052\n",
       "2     0.862316  0.670331  0.296543  0.912448  0.030133\n",
       "3     0.429745  0.706427  0.574889  0.630357  0.113009\n",
       "4     0.556937  0.123050  0.470312  0.305522  0.454862\n",
       "..         ...       ...       ...       ...       ...\n",
       "329  0.0177201  0.695550  0.992854  0.915689  0.762255\n",
       "330   0.392775  0.355469  0.395592  0.549810  0.275197\n",
       "331   0.617468  0.646687  0.125335  0.976836  0.122560\n",
       "332   0.394344  0.928409  0.430738  0.591409  0.661340\n",
       "333   0.520391  0.674924  0.040147  0.596971  0.278514\n",
       "\n",
       "[334 rows x 5 columns]"
      ]
     },
     "execution_count": 31,
     "metadata": {},
     "output_type": "execute_result"
    }
   ],
   "source": [
    "newdf"
   ]
  },
  {
   "cell_type": "code",
   "execution_count": 32,
   "metadata": {},
   "outputs": [],
   "source": [
    "newdf.columns = list(\"ABDCE\")"
   ]
  },
  {
   "cell_type": "code",
   "execution_count": 33,
   "metadata": {},
   "outputs": [
    {
     "data": {
      "text/html": [
       "<div>\n",
       "<style scoped>\n",
       "    .dataframe tbody tr th:only-of-type {\n",
       "        vertical-align: middle;\n",
       "    }\n",
       "\n",
       "    .dataframe tbody tr th {\n",
       "        vertical-align: top;\n",
       "    }\n",
       "\n",
       "    .dataframe thead th {\n",
       "        text-align: right;\n",
       "    }\n",
       "</style>\n",
       "<table border=\"1\" class=\"dataframe\">\n",
       "  <thead>\n",
       "    <tr style=\"text-align: right;\">\n",
       "      <th></th>\n",
       "      <th>A</th>\n",
       "      <th>B</th>\n",
       "      <th>D</th>\n",
       "      <th>C</th>\n",
       "      <th>E</th>\n",
       "    </tr>\n",
       "  </thead>\n",
       "  <tbody>\n",
       "    <tr>\n",
       "      <td>0</td>\n",
       "      <td>0.234234</td>\n",
       "      <td>0.595399</td>\n",
       "      <td>0.484736</td>\n",
       "      <td>0.432818</td>\n",
       "      <td>0.975265</td>\n",
       "    </tr>\n",
       "    <tr>\n",
       "      <td>1</td>\n",
       "      <td>0.765804</td>\n",
       "      <td>0.795241</td>\n",
       "      <td>0.422572</td>\n",
       "      <td>0.367382</td>\n",
       "      <td>0.453052</td>\n",
       "    </tr>\n",
       "    <tr>\n",
       "      <td>2</td>\n",
       "      <td>0.862316</td>\n",
       "      <td>0.670331</td>\n",
       "      <td>0.296543</td>\n",
       "      <td>0.912448</td>\n",
       "      <td>0.030133</td>\n",
       "    </tr>\n",
       "    <tr>\n",
       "      <td>3</td>\n",
       "      <td>0.429745</td>\n",
       "      <td>0.706427</td>\n",
       "      <td>0.574889</td>\n",
       "      <td>0.630357</td>\n",
       "      <td>0.113009</td>\n",
       "    </tr>\n",
       "    <tr>\n",
       "      <td>4</td>\n",
       "      <td>0.556937</td>\n",
       "      <td>0.123050</td>\n",
       "      <td>0.470312</td>\n",
       "      <td>0.305522</td>\n",
       "      <td>0.454862</td>\n",
       "    </tr>\n",
       "    <tr>\n",
       "      <td>...</td>\n",
       "      <td>...</td>\n",
       "      <td>...</td>\n",
       "      <td>...</td>\n",
       "      <td>...</td>\n",
       "      <td>...</td>\n",
       "    </tr>\n",
       "    <tr>\n",
       "      <td>329</td>\n",
       "      <td>0.0177201</td>\n",
       "      <td>0.695550</td>\n",
       "      <td>0.992854</td>\n",
       "      <td>0.915689</td>\n",
       "      <td>0.762255</td>\n",
       "    </tr>\n",
       "    <tr>\n",
       "      <td>330</td>\n",
       "      <td>0.392775</td>\n",
       "      <td>0.355469</td>\n",
       "      <td>0.395592</td>\n",
       "      <td>0.549810</td>\n",
       "      <td>0.275197</td>\n",
       "    </tr>\n",
       "    <tr>\n",
       "      <td>331</td>\n",
       "      <td>0.617468</td>\n",
       "      <td>0.646687</td>\n",
       "      <td>0.125335</td>\n",
       "      <td>0.976836</td>\n",
       "      <td>0.122560</td>\n",
       "    </tr>\n",
       "    <tr>\n",
       "      <td>332</td>\n",
       "      <td>0.394344</td>\n",
       "      <td>0.928409</td>\n",
       "      <td>0.430738</td>\n",
       "      <td>0.591409</td>\n",
       "      <td>0.661340</td>\n",
       "    </tr>\n",
       "    <tr>\n",
       "      <td>333</td>\n",
       "      <td>0.520391</td>\n",
       "      <td>0.674924</td>\n",
       "      <td>0.040147</td>\n",
       "      <td>0.596971</td>\n",
       "      <td>0.278514</td>\n",
       "    </tr>\n",
       "  </tbody>\n",
       "</table>\n",
       "<p>334 rows × 5 columns</p>\n",
       "</div>"
      ],
      "text/plain": [
       "             A         B         D         C         E\n",
       "0     0.234234  0.595399  0.484736  0.432818  0.975265\n",
       "1     0.765804  0.795241  0.422572  0.367382  0.453052\n",
       "2     0.862316  0.670331  0.296543  0.912448  0.030133\n",
       "3     0.429745  0.706427  0.574889  0.630357  0.113009\n",
       "4     0.556937  0.123050  0.470312  0.305522  0.454862\n",
       "..         ...       ...       ...       ...       ...\n",
       "329  0.0177201  0.695550  0.992854  0.915689  0.762255\n",
       "330   0.392775  0.355469  0.395592  0.549810  0.275197\n",
       "331   0.617468  0.646687  0.125335  0.976836  0.122560\n",
       "332   0.394344  0.928409  0.430738  0.591409  0.661340\n",
       "333   0.520391  0.674924  0.040147  0.596971  0.278514\n",
       "\n",
       "[334 rows x 5 columns]"
      ]
     },
     "execution_count": 33,
     "metadata": {},
     "output_type": "execute_result"
    }
   ],
   "source": [
    "newdf"
   ]
  },
  {
   "cell_type": "code",
   "execution_count": 34,
   "metadata": {},
   "outputs": [
    {
     "ename": "SyntaxError",
     "evalue": "can't assign to function call (<ipython-input-34-d66f79beb9a1>, line 1)",
     "output_type": "error",
     "traceback": [
      "\u001b[0;36m  File \u001b[0;32m\"<ipython-input-34-d66f79beb9a1>\"\u001b[0;36m, line \u001b[0;32m1\u001b[0m\n\u001b[0;31m    newdf.columns(0) = 645\u001b[0m\n\u001b[0m                          ^\u001b[0m\n\u001b[0;31mSyntaxError\u001b[0m\u001b[0;31m:\u001b[0m can't assign to function call\n"
     ]
    }
   ],
   "source": [
    "newdf.columns(0) = 645"
   ]
  },
  {
   "cell_type": "code",
   "execution_count": null,
   "metadata": {},
   "outputs": [],
   "source": [
    "newdf[0] = 645\n"
   ]
  },
  {
   "cell_type": "code",
   "execution_count": null,
   "metadata": {},
   "outputs": [],
   "source": [
    "newdf"
   ]
  },
  {
   "cell_type": "code",
   "execution_count": null,
   "metadata": {},
   "outputs": [],
   "source": [
    "newdf.drop(0, axis = 1)"
   ]
  },
  {
   "cell_type": "code",
   "execution_count": null,
   "metadata": {},
   "outputs": [],
   "source": [
    "newdf.loc[[1,2], :]"
   ]
  },
  {
   "cell_type": "code",
   "execution_count": null,
   "metadata": {},
   "outputs": [],
   "source": [
    "newdf.loc[(newdf[\"A\"]<0.3) & (newdf['C']>0.1)]"
   ]
  },
  {
   "cell_type": "code",
   "execution_count": null,
   "metadata": {},
   "outputs": [],
   "source": [
    "newdf.iloc[0,4]"
   ]
  },
  {
   "cell_type": "code",
   "execution_count": null,
   "metadata": {},
   "outputs": [],
   "source": [
    "newdf.drop([0])"
   ]
  },
  {
   "cell_type": "code",
   "execution_count": null,
   "metadata": {},
   "outputs": [],
   "source": [
    "newdf.drop(['A'], axis=1)"
   ]
  },
  {
   "cell_type": "code",
   "execution_count": null,
   "metadata": {},
   "outputs": [],
   "source": [
    "newdf.drop([1,5], axis=0)"
   ]
  },
  {
   "cell_type": "code",
   "execution_count": null,
   "metadata": {},
   "outputs": [],
   "source": [
    "newdf.head(3)"
   ]
  },
  {
   "cell_type": "code",
   "execution_count": null,
   "metadata": {},
   "outputs": [],
   "source": [
    "newdf.indexx_reset()"
   ]
  },
  {
   "cell_type": "code",
   "execution_count": null,
   "metadata": {},
   "outputs": [],
   "source": [
    "newdf.index_reset()"
   ]
  },
  {
   "cell_type": "code",
   "execution_count": null,
   "metadata": {},
   "outputs": [],
   "source": [
    "newdf.reset_index()"
   ]
  },
  {
   "cell_type": "code",
   "execution_count": null,
   "metadata": {},
   "outputs": [],
   "source": [
    "newdf.reset_index(drop=True)"
   ]
  },
  {
   "cell_type": "code",
   "execution_count": null,
   "metadata": {},
   "outputs": [],
   "source": [
    "newdf['B'].isnull()"
   ]
  },
  {
   "cell_type": "code",
   "execution_count": null,
   "metadata": {},
   "outputs": [],
   "source": [
    "newdf['B'].isnull().head()"
   ]
  },
  {
   "cell_type": "code",
   "execution_count": null,
   "metadata": {},
   "outputs": [],
   "source": [
    "newdf.describe(include=\"all\")"
   ]
  },
  {
   "cell_type": "code",
   "execution_count": null,
   "metadata": {},
   "outputs": [],
   "source": [
    "newdf.head(3)"
   ]
  },
  {
   "cell_type": "code",
   "execution_count": null,
   "metadata": {},
   "outputs": [],
   "source": [
    "newdf[[0, 'A'], fill_value=5164654]"
   ]
  },
  {
   "cell_type": "code",
   "execution_count": null,
   "metadata": {},
   "outputs": [],
   "source": [
    "newdf[0, 'A'] = 0.41545"
   ]
  },
  {
   "cell_type": "code",
   "execution_count": null,
   "metadata": {},
   "outputs": [],
   "source": [
    "newdf"
   ]
  },
  {
   "cell_type": "code",
   "execution_count": null,
   "metadata": {},
   "outputs": [],
   "source": [
    "df = pd.DataFrame({\"name\": ['Alfred', 'Batman', 'Alfred'],\n",
    "                    \"toy\": [np.nan, np.nan, 'Bullwhip'],\n",
    "                    \"born\": [pd.NaT, pd.Timestamp(\"1940-04-25\"),\n",
    "                             pd.NaT]})"
   ]
  },
  {
   "cell_type": "code",
   "execution_count": null,
   "metadata": {},
   "outputs": [],
   "source": [
    "df"
   ]
  },
  {
   "cell_type": "code",
   "execution_count": null,
   "metadata": {},
   "outputs": [],
   "source": [
    "df.dropna(how=\"all\", axis=1)"
   ]
  },
  {
   "cell_type": "code",
   "execution_count": null,
   "metadata": {},
   "outputs": [],
   "source": [
    "df.dropna(axis=1)"
   ]
  },
  {
   "cell_type": "code",
   "execution_count": null,
   "metadata": {},
   "outputs": [],
   "source": [
    "df"
   ]
  },
  {
   "cell_type": "code",
   "execution_count": null,
   "metadata": {},
   "outputs": [],
   "source": [
    "df.drop_duplicates(subset=['name'])"
   ]
  },
  {
   "cell_type": "code",
   "execution_count": null,
   "metadata": {},
   "outputs": [],
   "source": [
    "df.drop_duplicates(subset=['name'], keep='last')"
   ]
  },
  {
   "cell_type": "code",
   "execution_count": null,
   "metadata": {},
   "outputs": [],
   "source": [
    "int x = print(\"hello\")"
   ]
  },
  {
   "cell_type": "code",
   "execution_count": null,
   "metadata": {},
   "outputs": [],
   "source": [
    "int_x = print(\"hello\")"
   ]
  },
  {
   "cell_type": "code",
   "execution_count": null,
   "metadata": {},
   "outputs": [],
   "source": [
    "int_x"
   ]
  },
  {
   "cell_type": "code",
   "execution_count": null,
   "metadata": {},
   "outputs": [],
   "source": [
    "import numpy as np"
   ]
  },
  {
   "cell_type": "code",
   "execution_count": null,
   "metadata": {},
   "outputs": [],
   "source": [
    "arr = np.array([2,5,6,7,8])\n"
   ]
  },
  {
   "cell_type": "code",
   "execution_count": null,
   "metadata": {},
   "outputs": [],
   "source": [
    "arr"
   ]
  },
  {
   "cell_type": "code",
   "execution_count": null,
   "metadata": {},
   "outputs": [],
   "source": [
    "arr[0]"
   ]
  },
  {
   "cell_type": "code",
   "execution_count": null,
   "metadata": {},
   "outputs": [],
   "source": [
    "arr = np.array([[2,4,5,6,0]])"
   ]
  },
  {
   "cell_type": "code",
   "execution_count": null,
   "metadata": {},
   "outputs": [],
   "source": [
    "arr[0,1]"
   ]
  },
  {
   "cell_type": "code",
   "execution_count": null,
   "metadata": {},
   "outputs": [],
   "source": [
    "arr.dtype"
   ]
  },
  {
   "cell_type": "code",
   "execution_count": null,
   "metadata": {},
   "outputs": [],
   "source": [
    "import numpy as np"
   ]
  },
  {
   "cell_type": "code",
   "execution_count": null,
   "metadata": {},
   "outputs": [],
   "source": [
    "arr = np.array(np.arange(9).reshape(3,3))"
   ]
  },
  {
   "cell_type": "code",
   "execution_count": null,
   "metadata": {},
   "outputs": [],
   "source": [
    "arr\n"
   ]
  },
  {
   "cell_type": "code",
   "execution_count": null,
   "metadata": {},
   "outputs": [],
   "source": [
    "a = np.array([[2,3,5], [5,6,7]])"
   ]
  },
  {
   "cell_type": "code",
   "execution_count": null,
   "metadata": {},
   "outputs": [],
   "source": [
    "a"
   ]
  },
  {
   "cell_type": "code",
   "execution_count": null,
   "metadata": {},
   "outputs": [],
   "source": [
    "a = np.array(np.arange(9).reshape(3,3))"
   ]
  },
  {
   "cell_type": "code",
   "execution_count": null,
   "metadata": {},
   "outputs": [],
   "source": [
    "a"
   ]
  },
  {
   "cell_type": "code",
   "execution_count": null,
   "metadata": {},
   "outputs": [],
   "source": [
    "space = np.linspace(1,3,50)"
   ]
  },
  {
   "cell_type": "code",
   "execution_count": null,
   "metadata": {},
   "outputs": [],
   "source": [
    "space"
   ]
  },
  {
   "cell_type": "code",
   "execution_count": null,
   "metadata": {},
   "outputs": [],
   "source": [
    "np.zeros((4,6))"
   ]
  },
  {
   "cell_type": "markdown",
   "metadata": {},
   "source": [
    "## MATPLOTLIB"
   ]
  },
  {
   "cell_type": "code",
   "execution_count": 35,
   "metadata": {},
   "outputs": [],
   "source": [
    "import matplotlib.pyplot as plt\n",
    "from matplotlib import style"
   ]
  },
  {
   "cell_type": "code",
   "execution_count": 36,
   "metadata": {},
   "outputs": [
    {
     "data": {
      "image/png": "[encoded data removed]",
      "text/plain": [
       "<Figure size 432x288 with 1 Axes>"
      ]
     },
     "metadata": {},
     "output_type": "display_data"
    }
   ],
   "source": [
    "days = [1,2,3,4,5,6,7,8,9,10,11,12,13,14,15]\n",
    "delhi_temp = [36.6, 37, 37.7,39,40.1,43,43.4,45,45.6,40.1,44,45,46.8,47,47.8]\n",
    "mumbai_temp = [39,39.4,40,40.7,41,42.5,43.5,44,44.9,44,45,45.1,46,47,46]\n",
    "\n",
    "style.use(\"ggplot\")\n",
    "plt.plot(days, delhi_temp, color = 'g', marker = 'o', linestyle = '--' ,linewidth = 2, label = \"Delhi temp\")\n",
    "plt.plot(days, mumbai_temp, color = 'r', marker = 'o', linestyle = '--' ,linewidth = 2, label = \"Mumbai temp\")\n",
    "\n",
    "# plt.axis([0,30, 0,50])#to set starting value of graph manually\n",
    "plt.title(\"Delhi & Mumbai Temperature\", fontsize=15)\n",
    "plt.xlabel(\"Days\",fontsize=15)\n",
    "plt.ylabel(\"Temperature\",fontsize=15)\n",
    "plt.legend(loc = 0)\n",
    "plt.show()"
   ]
  },
  {
   "cell_type": "markdown",
   "metadata": {},
   "source": [
    "## Plotting histogram"
   ]
  },
  {
   "cell_type": "code",
   "execution_count": 37,
   "metadata": {},
   "outputs": [],
   "source": [
    "import matplotlib.pyplot as plt\n",
    "import numpy as np\n",
    "import random\n"
   ]
  },
  {
   "cell_type": "code",
   "execution_count": 38,
   "metadata": {},
   "outputs": [
    {
     "data": {
      "image/png": "[encoded data removed]",
      "text/plain": [
       "<Figure size 1152x648 with 1 Axes>"
      ]
     },
     "metadata": {},
     "output_type": "display_data"
    }
   ],
   "source": [
    "ml_student_age = np.random.randint(18,45, (100))\n",
    "py_student_age = np.random.randint(15,40, (100))\n",
    "\n",
    "bins = [15,20,25,30,35,40,45]\n",
    "\n",
    "plt.figure(figsize=(16,9))\n",
    "\n",
    "plt.hist([ml_student_age, py_student_age], bins, rwidth = 0.8, histtype= \"bar\", color=[\"r\",\"y\"], orientation=\"vertical\", label=[\"ML student\", \"PY students\"])\n",
    "\n",
    "# plt.hist(ml_student_age, bins, rwidth = 0.2, histtype= \"bar\", color=\"b\", orientation=\"vertical\", label=\"ML student\")\n",
    "plt.title(\"ML and Py students age\")\n",
    "plt.xlabel(\"Students age category\")\n",
    "plt.ylabel(\"no. of students age\")\n",
    "plt.legend()\n",
    "plt.show()"
   ]
  },
  {
   "cell_type": "markdown",
   "metadata": {},
   "source": [
    "## Plotting bar charts"
   ]
  },
  {
   "cell_type": "code",
   "execution_count": 39,
   "metadata": {},
   "outputs": [],
   "source": [
    "from matplotlib import style"
   ]
  },
  {
   "cell_type": "code",
   "execution_count": 40,
   "metadata": {},
   "outputs": [],
   "source": [
    "#  Dataset of 'Indian Artificial Intelligence Production (IAIP) Class\"\n",
    "\n",
    "#classes = [\"Python\", \"R\", \"Artificial Intelligence\", \"Machine Learning\", \"Data Science\"]\n",
    "\n",
    "classes = [\"Python\", \"R\", \"AI\", \"ML\", \"DS\"]\n",
    "class1_students = [30, 10, 20, 25, 10] # out of 100 student in each class\n",
    "class2_students = [40, 5, 20, 20, 10]\n",
    "class3_students = [35, 5, 30, 15, 15]"
   ]
  },
  {
   "cell_type": "code",
   "execution_count": 41,
   "metadata": {},
   "outputs": [
    {
     "data": {
      "text/plain": [
       "<BarContainer object of 5 artists>"
      ]
     },
     "execution_count": 41,
     "metadata": {},
     "output_type": "execute_result"
    },
    {
     "data": {
      "image/png": "[encoded data removed]",
      "text/plain": [
       "<Figure size 432x288 with 1 Axes>"
      ]
     },
     "metadata": {},
     "output_type": "display_data"
    }
   ],
   "source": [
    "plt.bar(classes, class1_students)"
   ]
  },
  {
   "cell_type": "code",
   "execution_count": 42,
   "metadata": {},
   "outputs": [
    {
     "data": {
      "text/plain": [
       "<matplotlib.legend.Legend at 0x7f8b1ef28050>"
      ]
     },
     "execution_count": 42,
     "metadata": {},
     "output_type": "execute_result"
    },
    {
     "data": {
      "image/png": "[encoded data removed]",
      "text/plain": [
       "<Figure size 432x288 with 1 Axes>"
      ]
     },
     "metadata": {},
     "output_type": "display_data"
    }
   ],
   "source": [
    "plt.bar(classes, class1_students, width=0.2, align='center', color=\"y\", linewidth = 5, alpha = 0.9, label = \"Class 1 students\")\n",
    "plt.legend()"
   ]
  },
  {
   "cell_type": "code",
   "execution_count": 43,
   "metadata": {},
   "outputs": [
    {
     "data": {
      "text/plain": [
       "<matplotlib.legend.Legend at 0x7f8b1f3df350>"
      ]
     },
     "execution_count": 43,
     "metadata": {},
     "output_type": "execute_result"
    },
    {
     "data": {
      "image/png": "[encoded data removed]",
      "text/plain": [
       "<Figure size 1152x648 with 1 Axes>"
      ]
     },
     "metadata": {},
     "output_type": "display_data"
    }
   ],
   "source": [
    "plt.figure(figsize=(16,9))\n",
    "plt.bar(classes, class1_students, width=0.2, align='center', color=\"y\", linewidth = 5, alpha = 0.9, label = \"Class 1 students\")\n",
    "plt.title(\"Bar chart of IAIP Class\", fontsize=15)\n",
    "plt.xlabel(\"Classes\", fontsize=15)\n",
    "plt.ylabel(\"No. of students\", fontsize=15)\n",
    "plt.legend()"
   ]
  },
  {
   "cell_type": "code",
   "execution_count": 53,
   "metadata": {},
   "outputs": [
    {
     "data": {
      "text/plain": [
       "<matplotlib.legend.Legend at 0x7f8b194f8050>"
      ]
     },
     "execution_count": 53,
     "metadata": {},
     "output_type": "execute_result"
    },
    {
     "data": {
      "image/png": "[encoded data removed]",
      "text/plain": [
       "<Figure size 1152x648 with 1 Axes>"
      ]
     },
     "metadata": {},
     "output_type": "display_data"
    }
   ],
   "source": [
    "width = 0.2\n",
    "\n",
    "plt.figure(figsize=(16,9))\n",
    "\n",
    "class_index = np.arange(len(classes))\n",
    "\n",
    "plt.bar(class_index , class1_students, width, color=\"y\",align='center', label = \"Class 1 students\")\n",
    "\n",
    "plt.bar(class_index + width, class2_students, width, color=\"g\",align='center', label = \"Class 2 students\")\n",
    "\n",
    "plt.bar(class_index + width + width, class3_students, width, color=\"r\",align='center', label = \"Class 3 students\")\n",
    "\n",
    "plt.xticks(class_index + width, classes) #you can use previous labels as new labels\n",
    "plt.title(\"Bar chart of IAIP Class\", fontsize=18)\n",
    "plt.xlabel(\"Classes\", fontsize=15)\n",
    "plt.ylabel(\"No. of students\", fontsize=15)\n",
    "plt.legend()"
   ]
  },
  {
   "cell_type": "markdown",
   "metadata": {},
   "source": [
    "## Plotting Scatter Plot"
   ]
  },
  {
   "cell_type": "code",
   "execution_count": 76,
   "metadata": {},
   "outputs": [],
   "source": [
    "import matplotlib.pyplot as plt\n",
    "import pandas as pd\n",
    "from matplotlib import style"
   ]
  },
  {
   "cell_type": "code",
   "execution_count": 77,
   "metadata": {},
   "outputs": [],
   "source": [
    "df_google_play_store_apps = pd.read_csv('/home/akhil/Downloads/googleplaystore.csv')"
   ]
  },
  {
   "cell_type": "code",
   "execution_count": 78,
   "metadata": {},
   "outputs": [
    {
     "data": {
      "text/plain": [
       "(10841, 13)"
      ]
     },
     "execution_count": 78,
     "metadata": {},
     "output_type": "execute_result"
    }
   ],
   "source": [
    "df_google_play_store_apps.shape"
   ]
  },
  {
   "cell_type": "code",
   "execution_count": 79,
   "metadata": {},
   "outputs": [
    {
     "data": {
      "text/html": [
       "<div>\n",
       "<style scoped>\n",
       "    .dataframe tbody tr th:only-of-type {\n",
       "        vertical-align: middle;\n",
       "    }\n",
       "\n",
       "    .dataframe tbody tr th {\n",
       "        vertical-align: top;\n",
       "    }\n",
       "\n",
       "    .dataframe thead th {\n",
       "        text-align: right;\n",
       "    }\n",
       "</style>\n",
       "<table border=\"1\" class=\"dataframe\">\n",
       "  <thead>\n",
       "    <tr style=\"text-align: right;\">\n",
       "      <th></th>\n",
       "      <th>App</th>\n",
       "      <th>Category</th>\n",
       "      <th>Rating</th>\n",
       "      <th>Reviews</th>\n",
       "      <th>Size</th>\n",
       "      <th>Installs</th>\n",
       "      <th>Type</th>\n",
       "      <th>Price</th>\n",
       "      <th>Content Rating</th>\n",
       "      <th>Genres</th>\n",
       "      <th>Last Updated</th>\n",
       "      <th>Current Ver</th>\n",
       "      <th>Android Ver</th>\n",
       "    </tr>\n",
       "  </thead>\n",
       "  <tbody>\n",
       "    <tr>\n",
       "      <td>0</td>\n",
       "      <td>Photo Editor &amp; Candy Camera &amp; Grid &amp; ScrapBook</td>\n",
       "      <td>ART_AND_DESIGN</td>\n",
       "      <td>4.1</td>\n",
       "      <td>159</td>\n",
       "      <td>19M</td>\n",
       "      <td>10,000+</td>\n",
       "      <td>Free</td>\n",
       "      <td>0</td>\n",
       "      <td>Everyone</td>\n",
       "      <td>Art &amp; Design</td>\n",
       "      <td>January 7, 2018</td>\n",
       "      <td>1.0.0</td>\n",
       "      <td>4.0.3 and up</td>\n",
       "    </tr>\n",
       "    <tr>\n",
       "      <td>1</td>\n",
       "      <td>Coloring book moana</td>\n",
       "      <td>ART_AND_DESIGN</td>\n",
       "      <td>3.9</td>\n",
       "      <td>967</td>\n",
       "      <td>14M</td>\n",
       "      <td>500,000+</td>\n",
       "      <td>Free</td>\n",
       "      <td>0</td>\n",
       "      <td>Everyone</td>\n",
       "      <td>Art &amp; Design;Pretend Play</td>\n",
       "      <td>January 15, 2018</td>\n",
       "      <td>2.0.0</td>\n",
       "      <td>4.0.3 and up</td>\n",
       "    </tr>\n",
       "    <tr>\n",
       "      <td>2</td>\n",
       "      <td>U Launcher Lite – FREE Live Cool Themes, Hide ...</td>\n",
       "      <td>ART_AND_DESIGN</td>\n",
       "      <td>4.7</td>\n",
       "      <td>87510</td>\n",
       "      <td>8.7M</td>\n",
       "      <td>5,000,000+</td>\n",
       "      <td>Free</td>\n",
       "      <td>0</td>\n",
       "      <td>Everyone</td>\n",
       "      <td>Art &amp; Design</td>\n",
       "      <td>August 1, 2018</td>\n",
       "      <td>1.2.4</td>\n",
       "      <td>4.0.3 and up</td>\n",
       "    </tr>\n",
       "  </tbody>\n",
       "</table>\n",
       "</div>"
      ],
      "text/plain": [
       "                                                 App        Category  Rating  \\\n",
       "0     Photo Editor & Candy Camera & Grid & ScrapBook  ART_AND_DESIGN     4.1   \n",
       "1                                Coloring book moana  ART_AND_DESIGN     3.9   \n",
       "2  U Launcher Lite – FREE Live Cool Themes, Hide ...  ART_AND_DESIGN     4.7   \n",
       "\n",
       "  Reviews  Size    Installs  Type Price Content Rating  \\\n",
       "0     159   19M     10,000+  Free     0       Everyone   \n",
       "1     967   14M    500,000+  Free     0       Everyone   \n",
       "2   87510  8.7M  5,000,000+  Free     0       Everyone   \n",
       "\n",
       "                      Genres      Last Updated Current Ver   Android Ver  \n",
       "0               Art & Design   January 7, 2018       1.0.0  4.0.3 and up  \n",
       "1  Art & Design;Pretend Play  January 15, 2018       2.0.0  4.0.3 and up  \n",
       "2               Art & Design    August 1, 2018       1.2.4  4.0.3 and up  "
      ]
     },
     "execution_count": 79,
     "metadata": {},
     "output_type": "execute_result"
    }
   ],
   "source": [
    "df_google_play_store_apps.head(3)"
   ]
  },
  {
   "cell_type": "code",
   "execution_count": 80,
   "metadata": {},
   "outputs": [
    {
     "data": {
      "text/plain": [
       "(1000, 13)"
      ]
     },
     "execution_count": 80,
     "metadata": {},
     "output_type": "execute_result"
    }
   ],
   "source": [
    "df_google_play_store_apps = pd.read_csv('/home/akhil/Downloads/googleplaystore.csv', nrows=1000)\n",
    "df_google_play_store_apps.shape"
   ]
  },
  {
   "cell_type": "code",
   "execution_count": 81,
   "metadata": {},
   "outputs": [
    {
     "data": {
      "text/html": [
       "<div>\n",
       "<style scoped>\n",
       "    .dataframe tbody tr th:only-of-type {\n",
       "        vertical-align: middle;\n",
       "    }\n",
       "\n",
       "    .dataframe tbody tr th {\n",
       "        vertical-align: top;\n",
       "    }\n",
       "\n",
       "    .dataframe thead th {\n",
       "        text-align: right;\n",
       "    }\n",
       "</style>\n",
       "<table border=\"1\" class=\"dataframe\">\n",
       "  <thead>\n",
       "    <tr style=\"text-align: right;\">\n",
       "      <th></th>\n",
       "      <th>App</th>\n",
       "      <th>Category</th>\n",
       "      <th>Rating</th>\n",
       "      <th>Reviews</th>\n",
       "      <th>Size</th>\n",
       "      <th>Installs</th>\n",
       "      <th>Type</th>\n",
       "      <th>Price</th>\n",
       "      <th>Content Rating</th>\n",
       "      <th>Genres</th>\n",
       "      <th>Last Updated</th>\n",
       "      <th>Current Ver</th>\n",
       "      <th>Android Ver</th>\n",
       "    </tr>\n",
       "  </thead>\n",
       "  <tbody>\n",
       "    <tr>\n",
       "      <td>0</td>\n",
       "      <td>Photo Editor &amp; Candy Camera &amp; Grid &amp; ScrapBook</td>\n",
       "      <td>ART_AND_DESIGN</td>\n",
       "      <td>4.1</td>\n",
       "      <td>159</td>\n",
       "      <td>19M</td>\n",
       "      <td>10,000+</td>\n",
       "      <td>Free</td>\n",
       "      <td>0</td>\n",
       "      <td>Everyone</td>\n",
       "      <td>Art &amp; Design</td>\n",
       "      <td>January 7, 2018</td>\n",
       "      <td>1.0.0</td>\n",
       "      <td>4.0.3 and up</td>\n",
       "    </tr>\n",
       "    <tr>\n",
       "      <td>1</td>\n",
       "      <td>Coloring book moana</td>\n",
       "      <td>ART_AND_DESIGN</td>\n",
       "      <td>3.9</td>\n",
       "      <td>967</td>\n",
       "      <td>14M</td>\n",
       "      <td>500,000+</td>\n",
       "      <td>Free</td>\n",
       "      <td>0</td>\n",
       "      <td>Everyone</td>\n",
       "      <td>Art &amp; Design;Pretend Play</td>\n",
       "      <td>January 15, 2018</td>\n",
       "      <td>2.0.0</td>\n",
       "      <td>4.0.3 and up</td>\n",
       "    </tr>\n",
       "    <tr>\n",
       "      <td>2</td>\n",
       "      <td>U Launcher Lite – FREE Live Cool Themes, Hide ...</td>\n",
       "      <td>ART_AND_DESIGN</td>\n",
       "      <td>4.7</td>\n",
       "      <td>87510</td>\n",
       "      <td>8.7M</td>\n",
       "      <td>5,000,000+</td>\n",
       "      <td>Free</td>\n",
       "      <td>0</td>\n",
       "      <td>Everyone</td>\n",
       "      <td>Art &amp; Design</td>\n",
       "      <td>August 1, 2018</td>\n",
       "      <td>1.2.4</td>\n",
       "      <td>4.0.3 and up</td>\n",
       "    </tr>\n",
       "    <tr>\n",
       "      <td>3</td>\n",
       "      <td>Sketch - Draw &amp; Paint</td>\n",
       "      <td>ART_AND_DESIGN</td>\n",
       "      <td>4.5</td>\n",
       "      <td>215644</td>\n",
       "      <td>25M</td>\n",
       "      <td>50,000,000+</td>\n",
       "      <td>Free</td>\n",
       "      <td>0</td>\n",
       "      <td>Teen</td>\n",
       "      <td>Art &amp; Design</td>\n",
       "      <td>June 8, 2018</td>\n",
       "      <td>Varies with device</td>\n",
       "      <td>4.2 and up</td>\n",
       "    </tr>\n",
       "    <tr>\n",
       "      <td>4</td>\n",
       "      <td>Pixel Draw - Number Art Coloring Book</td>\n",
       "      <td>ART_AND_DESIGN</td>\n",
       "      <td>4.3</td>\n",
       "      <td>967</td>\n",
       "      <td>2.8M</td>\n",
       "      <td>100,000+</td>\n",
       "      <td>Free</td>\n",
       "      <td>0</td>\n",
       "      <td>Everyone</td>\n",
       "      <td>Art &amp; Design;Creativity</td>\n",
       "      <td>June 20, 2018</td>\n",
       "      <td>1.1</td>\n",
       "      <td>4.4 and up</td>\n",
       "    </tr>\n",
       "    <tr>\n",
       "      <td>...</td>\n",
       "      <td>...</td>\n",
       "      <td>...</td>\n",
       "      <td>...</td>\n",
       "      <td>...</td>\n",
       "      <td>...</td>\n",
       "      <td>...</td>\n",
       "      <td>...</td>\n",
       "      <td>...</td>\n",
       "      <td>...</td>\n",
       "      <td>...</td>\n",
       "      <td>...</td>\n",
       "      <td>...</td>\n",
       "      <td>...</td>\n",
       "    </tr>\n",
       "    <tr>\n",
       "      <td>995</td>\n",
       "      <td>My Talking Pet</td>\n",
       "      <td>ENTERTAINMENT</td>\n",
       "      <td>4.6</td>\n",
       "      <td>6238</td>\n",
       "      <td>Varies with device</td>\n",
       "      <td>100,000+</td>\n",
       "      <td>Paid</td>\n",
       "      <td>$4.99</td>\n",
       "      <td>Everyone</td>\n",
       "      <td>Entertainment</td>\n",
       "      <td>June 30, 2018</td>\n",
       "      <td>Varies with device</td>\n",
       "      <td>Varies with device</td>\n",
       "    </tr>\n",
       "    <tr>\n",
       "      <td>996</td>\n",
       "      <td>Funny Pics</td>\n",
       "      <td>ENTERTAINMENT</td>\n",
       "      <td>3.9</td>\n",
       "      <td>9941</td>\n",
       "      <td>Varies with device</td>\n",
       "      <td>1,000,000+</td>\n",
       "      <td>Free</td>\n",
       "      <td>0</td>\n",
       "      <td>Teen</td>\n",
       "      <td>Entertainment</td>\n",
       "      <td>July 7, 2017</td>\n",
       "      <td>Varies with device</td>\n",
       "      <td>Varies with device</td>\n",
       "    </tr>\n",
       "    <tr>\n",
       "      <td>997</td>\n",
       "      <td>Funny Quotes Free</td>\n",
       "      <td>ENTERTAINMENT</td>\n",
       "      <td>4.2</td>\n",
       "      <td>23666</td>\n",
       "      <td>3.6M</td>\n",
       "      <td>1,000,000+</td>\n",
       "      <td>Free</td>\n",
       "      <td>0</td>\n",
       "      <td>Teen</td>\n",
       "      <td>Entertainment</td>\n",
       "      <td>May 4, 2018</td>\n",
       "      <td>8.1</td>\n",
       "      <td>4.0 and up</td>\n",
       "    </tr>\n",
       "    <tr>\n",
       "      <td>998</td>\n",
       "      <td>LOL Pics (Funny Pictures)</td>\n",
       "      <td>ENTERTAINMENT</td>\n",
       "      <td>4.4</td>\n",
       "      <td>67554</td>\n",
       "      <td>7.7M</td>\n",
       "      <td>1,000,000+</td>\n",
       "      <td>Free</td>\n",
       "      <td>0</td>\n",
       "      <td>Teen</td>\n",
       "      <td>Entertainment</td>\n",
       "      <td>September 15, 2015</td>\n",
       "      <td>4.0</td>\n",
       "      <td>2.3.3 and up</td>\n",
       "    </tr>\n",
       "    <tr>\n",
       "      <td>999</td>\n",
       "      <td>Meme Creator</td>\n",
       "      <td>ENTERTAINMENT</td>\n",
       "      <td>4.2</td>\n",
       "      <td>38769</td>\n",
       "      <td>44M</td>\n",
       "      <td>1,000,000+</td>\n",
       "      <td>Free</td>\n",
       "      <td>0</td>\n",
       "      <td>Mature 17+</td>\n",
       "      <td>Entertainment</td>\n",
       "      <td>September 22, 2015</td>\n",
       "      <td>7.2.3</td>\n",
       "      <td>2.3 and up</td>\n",
       "    </tr>\n",
       "  </tbody>\n",
       "</table>\n",
       "<p>1000 rows × 13 columns</p>\n",
       "</div>"
      ],
      "text/plain": [
       "                                                   App        Category  \\\n",
       "0       Photo Editor & Candy Camera & Grid & ScrapBook  ART_AND_DESIGN   \n",
       "1                                  Coloring book moana  ART_AND_DESIGN   \n",
       "2    U Launcher Lite – FREE Live Cool Themes, Hide ...  ART_AND_DESIGN   \n",
       "3                                Sketch - Draw & Paint  ART_AND_DESIGN   \n",
       "4                Pixel Draw - Number Art Coloring Book  ART_AND_DESIGN   \n",
       "..                                                 ...             ...   \n",
       "995                                     My Talking Pet   ENTERTAINMENT   \n",
       "996                                         Funny Pics   ENTERTAINMENT   \n",
       "997                                  Funny Quotes Free   ENTERTAINMENT   \n",
       "998                          LOL Pics (Funny Pictures)   ENTERTAINMENT   \n",
       "999                                       Meme Creator   ENTERTAINMENT   \n",
       "\n",
       "     Rating  Reviews                Size     Installs  Type  Price  \\\n",
       "0       4.1      159                 19M      10,000+  Free      0   \n",
       "1       3.9      967                 14M     500,000+  Free      0   \n",
       "2       4.7    87510                8.7M   5,000,000+  Free      0   \n",
       "3       4.5   215644                 25M  50,000,000+  Free      0   \n",
       "4       4.3      967                2.8M     100,000+  Free      0   \n",
       "..      ...      ...                 ...          ...   ...    ...   \n",
       "995     4.6     6238  Varies with device     100,000+  Paid  $4.99   \n",
       "996     3.9     9941  Varies with device   1,000,000+  Free      0   \n",
       "997     4.2    23666                3.6M   1,000,000+  Free      0   \n",
       "998     4.4    67554                7.7M   1,000,000+  Free      0   \n",
       "999     4.2    38769                 44M   1,000,000+  Free      0   \n",
       "\n",
       "    Content Rating                     Genres        Last Updated  \\\n",
       "0         Everyone               Art & Design     January 7, 2018   \n",
       "1         Everyone  Art & Design;Pretend Play    January 15, 2018   \n",
       "2         Everyone               Art & Design      August 1, 2018   \n",
       "3             Teen               Art & Design        June 8, 2018   \n",
       "4         Everyone    Art & Design;Creativity       June 20, 2018   \n",
       "..             ...                        ...                 ...   \n",
       "995       Everyone              Entertainment       June 30, 2018   \n",
       "996           Teen              Entertainment        July 7, 2017   \n",
       "997           Teen              Entertainment         May 4, 2018   \n",
       "998           Teen              Entertainment  September 15, 2015   \n",
       "999     Mature 17+              Entertainment  September 22, 2015   \n",
       "\n",
       "            Current Ver         Android Ver  \n",
       "0                 1.0.0        4.0.3 and up  \n",
       "1                 2.0.0        4.0.3 and up  \n",
       "2                 1.2.4        4.0.3 and up  \n",
       "3    Varies with device          4.2 and up  \n",
       "4                   1.1          4.4 and up  \n",
       "..                  ...                 ...  \n",
       "995  Varies with device  Varies with device  \n",
       "996  Varies with device  Varies with device  \n",
       "997                 8.1          4.0 and up  \n",
       "998                 4.0        2.3.3 and up  \n",
       "999               7.2.3          2.3 and up  \n",
       "\n",
       "[1000 rows x 13 columns]"
      ]
     },
     "execution_count": 81,
     "metadata": {},
     "output_type": "execute_result"
    }
   ],
   "source": [
    "df_google_play_store_apps"
   ]
  },
  {
   "cell_type": "code",
   "execution_count": 112,
   "metadata": {},
   "outputs": [],
   "source": [
    "# we will be taking x = ratings and y = reviews\n",
    "\n",
    "x = df_google_play_store_apps[\"Rating\"]\n",
    "y = df_google_play_store_apps[\"Reviews\"]\n"
   ]
  },
  {
   "cell_type": "code",
   "execution_count": 113,
   "metadata": {},
   "outputs": [
    {
     "data": {
      "text/plain": [
       "<matplotlib.collections.PathCollection at 0x7f8b143bd050>"
      ]
     },
     "execution_count": 113,
     "metadata": {},
     "output_type": "execute_result"
    },
    {
     "data": {
      "image/png": "[encoded data removed]",
      "text/plain": [
       "<Figure size 432x288 with 1 Axes>"
      ]
     },
     "metadata": {},
     "output_type": "display_data"
    }
   ],
   "source": [
    "plt.scatter(x, y)"
   ]
  },
  {
   "cell_type": "code",
   "execution_count": 114,
   "metadata": {},
   "outputs": [
    {
     "data": {
      "text/plain": [
       "Text(0, 0.5, 'Reviews')"
      ]
     },
     "execution_count": 114,
     "metadata": {},
     "output_type": "execute_result"
    },
    {
     "data": {
      "image/png": "[encoded data removed]",
      "text/plain": [
       "<Figure size 720x360 with 1 Axes>"
      ]
     },
     "metadata": {},
     "output_type": "display_data"
    }
   ],
   "source": [
    "plt.figure(figsize=(10,5))\n",
    "\n",
    "plt.scatter(x, y)\n",
    "plt.title(\"Google Play Store Apps Scatter plot\", fontsize=25)\n",
    "plt.xlabel(\"Ratings\", fontsize=18)\n",
    "plt.ylabel(\"Reviews\", fontsize=18)"
   ]
  },
  {
   "cell_type": "code",
   "execution_count": 115,
   "metadata": {},
   "outputs": [
    {
     "data": {
      "image/png": "[encoded data removed]",
      "text/plain": [
       "<Figure size 1152x648 with 1 Axes>"
      ]
     },
     "metadata": {},
     "output_type": "display_data"
    }
   ],
   "source": [
    "plt.figure(figsize = (16,9))\n",
    "plt.scatter(x,y, c = \"r\", marker = \"*\", s = 100, alpha=0.5, linewidths=10,\n",
    "           edgecolors=\"g\" )#verts=\"<\"\n",
    " \n",
    "plt.scatter(x,df_google_play_store_apps[\"Installs\"], c = \"y\", marker = \"o\", s = 100, alpha=0.5, linewidths=10,\n",
    "           edgecolors=\"c\" )\n",
    "plt.title(\"Google Play Store Apps Scatter plot\")\n",
    "plt.xlabel(\"Rating\")\n",
    "plt.ylabel(\"Reviews &amp; Installs\")\n",
    "plt.show()\n",
    "\n"
   ]
  },
  {
   "cell_type": "markdown",
   "metadata": {},
   "source": [
    "## Plotting a pie chart"
   ]
  },
  {
   "cell_type": "code",
   "execution_count": 116,
   "metadata": {
    "scrolled": true
   },
   "outputs": [
    {
     "data": {
      "image/png": "[encoded data removed]",
      "text/plain": [
       "<Figure size 432x288 with 1 Axes>"
      ]
     },
     "metadata": {},
     "output_type": "display_data"
    }
   ],
   "source": [
    "classes = [\"Python\", 'R', 'Machine Learning', 'Artificial Intelligence', \n",
    "           'Data Sciece']\n",
    "class1_students = [45, 15, 35, 25, 30]\n",
    "\n",
    "plt.pie([1])\n",
    "plt.show()"
   ]
  },
  {
   "cell_type": "code",
   "execution_count": 118,
   "metadata": {},
   "outputs": [
    {
     "data": {
      "image/png": "[encoded data removed]",
      "text/plain": [
       "<Figure size 432x288 with 1 Axes>"
      ]
     },
     "metadata": {},
     "output_type": "display_data"
    }
   ],
   "source": [
    "classes = [\"Python\", 'R', 'Machine Learning', 'Artificial Intelligence', \n",
    "           'Data Sciece']\n",
    "class1_students = [45, 15, 35, 25, 30]\n",
    "\n",
    "plt.pie(class1_students, labels=classes)\n",
    "plt.show()"
   ]
  },
  {
   "cell_type": "code",
   "execution_count": 124,
   "metadata": {},
   "outputs": [
    {
     "data": {
      "image/png": "[encoded data removed]",
      "text/plain": [
       "<Figure size 432x288 with 1 Axes>"
      ]
     },
     "metadata": {},
     "output_type": "display_data"
    }
   ],
   "source": [
    "#for slicing the pie chart\n",
    "\n",
    "classes = [\"Python\", 'R', 'Machine Learning', 'Artificial Intelligence', \n",
    "           'Data Sciece']\n",
    "class1_students = [45, 15, 35, 25, 30]\n",
    "explode = [0,0,0.2,0,0]\n",
    "colors = [\"c\", 'b','r','y','g'] # Color of each section\n",
    "textprops = {\"fontsize\":15}\n",
    "\n",
    "plt.pie(class1_students, labels=classes, explode=explode, colors=colors, \n",
    "        autopct='%0.1f%%', radius=1.4, textprops=textprops)\n",
    "plt.show()"
   ]
  },
  {
   "cell_type": "markdown",
   "metadata": {},
   "source": [
    "## Matplotlib Subplot"
   ]
  },
  {
   "cell_type": "code",
   "execution_count": 125,
   "metadata": {},
   "outputs": [],
   "source": [
    "import matplotlib.pyplot as plt"
   ]
  },
  {
   "cell_type": "code",
   "execution_count": 126,
   "metadata": {},
   "outputs": [
    {
     "data": {
      "text/plain": [
       "<matplotlib.axes._subplots.AxesSubplot at 0x7f8b0eca3e10>"
      ]
     },
     "execution_count": 126,
     "metadata": {},
     "output_type": "execute_result"
    },
    {
     "data": {
      "image/png": "[encoded data removed]",
      "text/plain": [
       "<Figure size 432x288 with 4 Axes>"
      ]
     },
     "metadata": {},
     "output_type": "display_data"
    }
   ],
   "source": [
    "plt.subplot(2,2, 1)\n",
    "plt.subplot(2,2, 2)\n",
    "plt.subplot(2,2, 3)\n",
    "plt.subplot(2,2, 4)"
   ]
  },
  {
   "cell_type": "code",
   "execution_count": 139,
   "metadata": {},
   "outputs": [
    {
     "name": "stderr",
     "output_type": "stream",
     "text": [
      "/home/akhil/anaconda3/lib/python3.7/site-packages/ipykernel_launcher.py:4: MatplotlibDeprecationWarning: Adding an axes using the same arguments as a previous axes currently reuses the earlier instance.  In a future version, a new instance will always be created and returned.  Meanwhile, this warning can be suppressed, and the future behavior ensured, by passing a unique label to each axes instance.\n",
      "  after removing the cwd from sys.path.\n"
     ]
    },
    {
     "data": {
      "image/png": "[encoded data removed]",
      "text/plain": [
       "<Figure size 1152x648 with 1 Axes>"
      ]
     },
     "metadata": {},
     "output_type": "display_data"
    },
    {
     "data": {
      "image/png": "[encoded data removed]",
      "text/plain": [
       "<Figure size 432x288 with 1 Axes>"
      ]
     },
     "metadata": {},
     "output_type": "display_data"
    },
    {
     "data": {
      "image/png": "[encoded data removed]",
      "text/plain": [
       "<Figure size 432x288 with 1 Axes>"
      ]
     },
     "metadata": {},
     "output_type": "display_data"
    },
    {
     "data": {
      "image/png": "[encoded data removed]",
      "text/plain": [
       "<Figure size 1152x648 with 1 Axes>"
      ]
     },
     "metadata": {},
     "output_type": "display_data"
    },
    {
     "data": {
      "image/png": "[encoded data removed]",
      "text/plain": [
       "<Figure size 432x288 with 1 Axes>"
      ]
     },
     "metadata": {},
     "output_type": "display_data"
    },
    {
     "data": {
      "image/png": "[encoded data removed]",
      "text/plain": [
       "<Figure size 432x288 with 2 Axes>"
      ]
     },
     "metadata": {},
     "output_type": "display_data"
    }
   ],
   "source": [
    "plt.figure(figsize=(16,9))\n",
    "\n",
    "plt.subplot(3,2,1)\n",
    "plt.subplot(321)\n",
    "days = [1,2,3,4,5,6,7,8,9,10,11,12,13,14,15]\n",
    "delhi_temp = [36.6, 37, 37.7,39,40.1,43,43.4,45,45.6,40.1,44,45,46.8,47,47.8]\n",
    "mumbai_temp = [39,39.4,40,40.7,41,42.5,43.5,44,44.9,44,45,45.1,46,47,46]\n",
    "\n",
    "style.use(\"ggplot\")\n",
    "plt.plot(days, delhi_temp, color = 'g', marker = 'o', linestyle = '--' ,linewidth = 2, label = \"Delhi temp\")\n",
    "plt.plot(days, mumbai_temp, color = 'r', marker = 'o', linestyle = '--' ,linewidth = 2, label = \"Mumbai temp\")\n",
    "\n",
    "# plt.axis([0,30, 0,50])#to set starting value of graph manually\n",
    "plt.title(\"Delhi & Mumbai Temperature\", fontsize=13)\n",
    "plt.xlabel(\"Days\",fontsize=13)\n",
    "plt.ylabel(\"Temperature\",fontsize=13)\n",
    "plt.legend(loc = 4)\n",
    "plt.grid(color='w', linestyle='--', linewidth=2)\n",
    "plt.show()\n",
    "# -------------------------------------------------------------------------------------------\n",
    "plt.subplot(3,2,2)\n",
    "import matplotlib.pyplot as plt\n",
    "import pandas as pd\n",
    "import numpy as np\n",
    "ml_student_age = np.random.randint(18,45, (100))\n",
    "py_student_age = np.random.randint(15,40, (100))\n",
    "\n",
    "bins = [15,20,25,30,35,40,45]\n",
    "\n",
    "# plt.figure(figsize=(16,9))\n",
    "\n",
    "plt.hist([ml_student_age, py_student_age], bins, rwidth = 0.8, histtype= \"bar\", color=[\"r\",\"y\"], orientation=\"vertical\", label=[\"ML student\", \"PY students\"])\n",
    "\n",
    "# plt.hist(ml_student_age, bins, rwidth = 0.2, histtype= \"bar\", color=\"b\", orientation=\"vertical\", label=\"ML student\")\n",
    "plt.title(\"ML and Py students age\")\n",
    "plt.xlabel(\"Students age category\")\n",
    "plt.ylabel(\"no. of students age\")\n",
    "plt.legend()\n",
    "plt.show()\n",
    "\n",
    "#------------------------------------------------------------------------------------------\n",
    "plt.subplot(3,2,3)\n",
    "plt.figure(figsize = (16,9))\n",
    "plt.scatter(x,y, c = \"r\", marker = \"*\", s = 100, alpha=0.5, linewidths=10,\n",
    "           edgecolors=\"g\" )#verts=\"<\"\n",
    " \n",
    "plt.scatter(x,df_google_play_store_apps[\"Installs\"], c = \"y\", marker = \"o\", s = 100, alpha=0.5, linewidths=10,\n",
    "           edgecolors=\"c\" )\n",
    "plt.title(\"Google Play Store Apps Scatter plot\")\n",
    "plt.xlabel(\"Rating\")\n",
    "plt.ylabel(\"Reviews &amp; Installs\")\n",
    "plt.show()\n",
    "\n",
    "# --------------------------------------------------------------------------------------------\n",
    "plt.subplot(3,2,4)\n",
    "classes = [\"Python\", 'R', 'Machine Learning', 'Artificial Intelligence', \n",
    "           'Data Sciece']\n",
    "class1_students = [45, 15, 35, 25, 30]\n",
    "explode = [0,0,0.2,0,0]\n",
    "colors = [\"c\", 'b','r','y','g'] # Color of each section\n",
    "textprops = {\"fontsize\":15}\n",
    "\n",
    "plt.pie(class1_students, labels=classes, explode=explode, colors=colors, \n",
    "        autopct='%0.1f%%', radius=1.4, textprops=textprops)\n",
    "plt.show()\n",
    "\n",
    "# ------------------------------------------------------------------------------------------\n",
    "plt.subplot(3,2,5)\n",
    "plt.subplot(3,2,6)\n",
    "\n",
    "plt.show()"
   ]
  },
  {
   "cell_type": "code",
   "execution_count": null,
   "metadata": {},
   "outputs": [],
   "source": []
  }
 ],
 "metadata": {
  "kernelspec": {
   "display_name": "Python 3",
   "language": "python",
   "name": "python3"
  },
  "language_info": {
   "codemirror_mode": {
    "name": "ipython",
    "version": 3
   },
   "file_extension": ".py",
   "mimetype": "text/x-python",
   "name": "python",
   "nbconvert_exporter": "python",
   "pygments_lexer": "ipython3",
   "version": "3.7.4"
  }
 },
 "nbformat": 4,
 "nbformat_minor": 2
}
